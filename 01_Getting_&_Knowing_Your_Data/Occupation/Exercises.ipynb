{
 "cells": [
  {
   "cell_type": "markdown",
   "metadata": {},
   "source": [
    "# Ex3 - Getting and Knowing your Data"
   ]
  },
  {
   "cell_type": "markdown",
   "metadata": {},
   "source": [
    "This time we are going to pull data directly from the internet.\n",
    "Special thanks to: https://github.com/justmarkham for sharing the dataset and materials.\n",
    "\n",
    "### Step 1. Import the necessary libraries"
   ]
  },
  {
   "cell_type": "code",
   "execution_count": 1,
   "metadata": {},
   "outputs": [],
   "source": [
    "from pyspark.sql import SparkSession\n",
    "from pyspark.sql import functions as F\n",
    "from pyspark.sql import types as T\n",
    "\n",
    "spark = SparkSession.builder.appName(\"Occupation\").getOrCreate()"
   ]
  },
  {
   "cell_type": "markdown",
   "metadata": {},
   "source": [
    "### Step 2. Import the dataset from this [address](https://raw.githubusercontent.com/justmarkham/DAT8/master/data/u.user). "
   ]
  },
  {
   "cell_type": "markdown",
   "metadata": {},
   "source": [
    "### Step 3. Assign it to a variable called users and use the 'user_id' as index"
   ]
  },
  {
   "cell_type": "code",
   "execution_count": 2,
   "metadata": {},
   "outputs": [],
   "source": [
    "url = 'https://raw.githubusercontent.com/justmarkham/DAT8/master/data/u.user'\n",
    "from pyspark import SparkFiles\n",
    "spark.sparkContext.addFile(url)\n",
    "\n",
    "users = spark.read.csv(SparkFiles.get(\"u.user\"), sep='|', header=True, inferSchema= True)"
   ]
  },
  {
   "cell_type": "markdown",
   "metadata": {},
   "source": [
    "### Step 4. See the first 25 entries"
   ]
  },
  {
   "cell_type": "code",
   "execution_count": 6,
   "metadata": {
    "scrolled": true
   },
   "outputs": [
    {
     "data": {
      "text/plain": [
       "[Row(user_id=1, age=24, gender='M', occupation='technician', zip_code='85711'),\n",
       " Row(user_id=2, age=53, gender='F', occupation='other', zip_code='94043'),\n",
       " Row(user_id=3, age=23, gender='M', occupation='writer', zip_code='32067'),\n",
       " Row(user_id=4, age=24, gender='M', occupation='technician', zip_code='43537'),\n",
       " Row(user_id=5, age=33, gender='F', occupation='other', zip_code='15213'),\n",
       " Row(user_id=6, age=42, gender='M', occupation='executive', zip_code='98101'),\n",
       " Row(user_id=7, age=57, gender='M', occupation='administrator', zip_code='91344'),\n",
       " Row(user_id=8, age=36, gender='M', occupation='administrator', zip_code='05201'),\n",
       " Row(user_id=9, age=29, gender='M', occupation='student', zip_code='01002'),\n",
       " Row(user_id=10, age=53, gender='M', occupation='lawyer', zip_code='90703'),\n",
       " Row(user_id=11, age=39, gender='F', occupation='other', zip_code='30329'),\n",
       " Row(user_id=12, age=28, gender='F', occupation='other', zip_code='06405'),\n",
       " Row(user_id=13, age=47, gender='M', occupation='educator', zip_code='29206'),\n",
       " Row(user_id=14, age=45, gender='M', occupation='scientist', zip_code='55106'),\n",
       " Row(user_id=15, age=49, gender='F', occupation='educator', zip_code='97301'),\n",
       " Row(user_id=16, age=21, gender='M', occupation='entertainment', zip_code='10309'),\n",
       " Row(user_id=17, age=30, gender='M', occupation='programmer', zip_code='06355'),\n",
       " Row(user_id=18, age=35, gender='F', occupation='other', zip_code='37212'),\n",
       " Row(user_id=19, age=40, gender='M', occupation='librarian', zip_code='02138'),\n",
       " Row(user_id=20, age=42, gender='F', occupation='homemaker', zip_code='95660'),\n",
       " Row(user_id=21, age=26, gender='M', occupation='writer', zip_code='30068'),\n",
       " Row(user_id=22, age=25, gender='M', occupation='writer', zip_code='40206'),\n",
       " Row(user_id=23, age=30, gender='F', occupation='artist', zip_code='48197'),\n",
       " Row(user_id=24, age=21, gender='F', occupation='artist', zip_code='94533'),\n",
       " Row(user_id=25, age=39, gender='M', occupation='engineer', zip_code='55107')]"
      ]
     },
     "execution_count": 6,
     "metadata": {},
     "output_type": "execute_result"
    }
   ],
   "source": [
    "users.head(25)"
   ]
  },
  {
   "cell_type": "markdown",
   "metadata": {},
   "source": [
    "### Step 5. See the last 10 entries"
   ]
  },
  {
   "cell_type": "code",
   "execution_count": 5,
   "metadata": {
    "scrolled": true
   },
   "outputs": [
    {
     "data": {
      "text/plain": [
       "[Row(user_id=934, age=61, gender='M', occupation='engineer', zip_code='22902'),\n",
       " Row(user_id=935, age=42, gender='M', occupation='doctor', zip_code='66221'),\n",
       " Row(user_id=936, age=24, gender='M', occupation='other', zip_code='32789'),\n",
       " Row(user_id=937, age=48, gender='M', occupation='educator', zip_code='98072'),\n",
       " Row(user_id=938, age=38, gender='F', occupation='technician', zip_code='55038'),\n",
       " Row(user_id=939, age=26, gender='F', occupation='student', zip_code='33319'),\n",
       " Row(user_id=940, age=32, gender='M', occupation='administrator', zip_code='02215'),\n",
       " Row(user_id=941, age=20, gender='M', occupation='student', zip_code='97229'),\n",
       " Row(user_id=942, age=48, gender='F', occupation='librarian', zip_code='78209'),\n",
       " Row(user_id=943, age=22, gender='M', occupation='student', zip_code='77841')]"
      ]
     },
     "execution_count": 5,
     "metadata": {},
     "output_type": "execute_result"
    }
   ],
   "source": [
    "users.tail(10)"
   ]
  },
  {
   "cell_type": "markdown",
   "metadata": {},
   "source": [
    "### Step 6. What is the number of observations in the dataset?"
   ]
  },
  {
   "cell_type": "code",
   "execution_count": 7,
   "metadata": {},
   "outputs": [
    {
     "data": {
      "text/plain": [
       "943"
      ]
     },
     "execution_count": 7,
     "metadata": {},
     "output_type": "execute_result"
    }
   ],
   "source": [
    "users.count()"
   ]
  },
  {
   "cell_type": "markdown",
   "metadata": {},
   "source": [
    "### Step 7. What is the number of columns in the dataset?"
   ]
  },
  {
   "cell_type": "code",
   "execution_count": 9,
   "metadata": {},
   "outputs": [
    {
     "data": {
      "text/plain": [
       "5"
      ]
     },
     "execution_count": 9,
     "metadata": {},
     "output_type": "execute_result"
    }
   ],
   "source": [
    "len(users.columns)"
   ]
  },
  {
   "cell_type": "markdown",
   "metadata": {},
   "source": [
    "### Step 8. Print the name of all the columns."
   ]
  },
  {
   "cell_type": "code",
   "execution_count": 10,
   "metadata": {},
   "outputs": [
    {
     "data": {
      "text/plain": [
       "['user_id', 'age', 'gender', 'occupation', 'zip_code']"
      ]
     },
     "execution_count": 10,
     "metadata": {},
     "output_type": "execute_result"
    }
   ],
   "source": [
    "users.columns"
   ]
  },
  {
   "cell_type": "markdown",
   "metadata": {},
   "source": [
    "### Step 9. How is the dataset indexed?"
   ]
  },
  {
   "cell_type": "code",
   "execution_count": 16,
   "metadata": {},
   "outputs": [
    {
     "name": "stdout",
     "output_type": "stream",
     "text": [
      "+-------+-----------------+\n",
      "|summary|          user_id|\n",
      "+-------+-----------------+\n",
      "|  count|              943|\n",
      "|   mean|            472.0|\n",
      "| stddev|272.3649512449549|\n",
      "|    min|                1|\n",
      "|    25%|              236|\n",
      "|    50%|              472|\n",
      "|    75%|              708|\n",
      "|    max|              943|\n",
      "+-------+-----------------+\n",
      "\n"
     ]
    }
   ],
   "source": [
    "users.select(F.col('user_id')).summary().show()"
   ]
  },
  {
   "cell_type": "markdown",
   "metadata": {},
   "source": [
    "### Step 10. What is the data type of each column?"
   ]
  },
  {
   "cell_type": "code",
   "execution_count": 18,
   "metadata": {},
   "outputs": [
    {
     "name": "stdout",
     "output_type": "stream",
     "text": [
      "root\n",
      " |-- user_id: integer (nullable = true)\n",
      " |-- age: integer (nullable = true)\n",
      " |-- gender: string (nullable = true)\n",
      " |-- occupation: string (nullable = true)\n",
      " |-- zip_code: string (nullable = true)\n",
      "\n"
     ]
    }
   ],
   "source": [
    "users.printSchema()"
   ]
  },
  {
   "cell_type": "markdown",
   "metadata": {},
   "source": [
    "### Step 11. Print only the occupation column"
   ]
  },
  {
   "cell_type": "code",
   "execution_count": 20,
   "metadata": {},
   "outputs": [
    {
     "data": {
      "text/plain": [
       "[Row(occupation='technician'),\n",
       " Row(occupation='other'),\n",
       " Row(occupation='writer'),\n",
       " Row(occupation='technician'),\n",
       " Row(occupation='other'),\n",
       " Row(occupation='executive'),\n",
       " Row(occupation='administrator'),\n",
       " Row(occupation='administrator'),\n",
       " Row(occupation='student'),\n",
       " Row(occupation='lawyer')]"
      ]
     },
     "execution_count": 20,
     "metadata": {},
     "output_type": "execute_result"
    }
   ],
   "source": [
    "users.select(F.col('occupation')).take(10)"
   ]
  },
  {
   "cell_type": "markdown",
   "metadata": {},
   "source": [
    "### Step 12. How many different occupations are in this dataset?"
   ]
  },
  {
   "cell_type": "code",
   "execution_count": 22,
   "metadata": {},
   "outputs": [
    {
     "data": {
      "text/plain": [
       "[Row(count(DISTINCT occupation)=21)]"
      ]
     },
     "execution_count": 22,
     "metadata": {},
     "output_type": "execute_result"
    }
   ],
   "source": [
    "users.select(F.countDistinct('occupation')).collect()"
   ]
  },
  {
   "cell_type": "markdown",
   "metadata": {},
   "source": [
    "### Step 13. What is the most frequent occupation?"
   ]
  },
  {
   "cell_type": "code",
   "execution_count": 25,
   "metadata": {},
   "outputs": [
    {
     "data": {
      "text/plain": [
       "[Row(occupation='student', count=196)]"
      ]
     },
     "execution_count": 25,
     "metadata": {},
     "output_type": "execute_result"
    }
   ],
   "source": [
    "users.groupBy('occupation').count().orderBy('count', ascending=False).take(1)"
   ]
  },
  {
   "cell_type": "markdown",
   "metadata": {},
   "source": [
    "### Step 14. Summarize the DataFrame."
   ]
  },
  {
   "cell_type": "code",
   "execution_count": 27,
   "metadata": {},
   "outputs": [
    {
     "name": "stdout",
     "output_type": "stream",
     "text": [
      "+-------+-----------------+-----------------+------+-------------+------------------+\n",
      "|summary|          user_id|              age|gender|   occupation|          zip_code|\n",
      "+-------+-----------------+-----------------+------+-------------+------------------+\n",
      "|  count|              943|              943|   943|          943|               943|\n",
      "|   mean|            472.0|34.05196182396607|  null|         null| 50868.78810810811|\n",
      "| stddev|272.3649512449549|12.19273973305903|  null|         null|30891.373254138176|\n",
      "|    min|                1|                7|     F|administrator|             00000|\n",
      "|    25%|              236|               25|  null|         null|           21227.0|\n",
      "|    50%|              472|               31|  null|         null|           53711.0|\n",
      "|    75%|              708|               43|  null|         null|           78741.0|\n",
      "|    max|              943|               73|     M|       writer|             Y1A6B|\n",
      "+-------+-----------------+-----------------+------+-------------+------------------+\n",
      "\n"
     ]
    }
   ],
   "source": [
    "users.summary().show()"
   ]
  },
  {
   "cell_type": "markdown",
   "metadata": {},
   "source": [
    "### Step 15. Summarize all the columns"
   ]
  },
  {
   "cell_type": "code",
   "execution_count": 28,
   "metadata": {},
   "outputs": [
    {
     "name": "stdout",
     "output_type": "stream",
     "text": [
      "+-------+-----------------+-----------------+------+-------------+------------------+\n",
      "|summary|          user_id|              age|gender|   occupation|          zip_code|\n",
      "+-------+-----------------+-----------------+------+-------------+------------------+\n",
      "|  count|              943|              943|   943|          943|               943|\n",
      "|   mean|            472.0|34.05196182396607|  null|         null| 50868.78810810811|\n",
      "| stddev|272.3649512449549|12.19273973305903|  null|         null|30891.373254138176|\n",
      "|    min|                1|                7|     F|administrator|             00000|\n",
      "|    25%|              236|               25|  null|         null|           21227.0|\n",
      "|    50%|              472|               31|  null|         null|           53711.0|\n",
      "|    75%|              708|               43|  null|         null|           78741.0|\n",
      "|    max|              943|               73|     M|       writer|             Y1A6B|\n",
      "+-------+-----------------+-----------------+------+-------------+------------------+\n",
      "\n"
     ]
    }
   ],
   "source": [
    "users.summary().show()"
   ]
  },
  {
   "cell_type": "markdown",
   "metadata": {},
   "source": [
    "### Step 16. Summarize only the occupation column"
   ]
  },
  {
   "cell_type": "code",
   "execution_count": 30,
   "metadata": {},
   "outputs": [
    {
     "name": "stdout",
     "output_type": "stream",
     "text": [
      "+-------+-------------+\n",
      "|summary|   occupation|\n",
      "+-------+-------------+\n",
      "|  count|          943|\n",
      "|   mean|         null|\n",
      "| stddev|         null|\n",
      "|    min|administrator|\n",
      "|    25%|         null|\n",
      "|    50%|         null|\n",
      "|    75%|         null|\n",
      "|    max|       writer|\n",
      "+-------+-------------+\n",
      "\n"
     ]
    }
   ],
   "source": [
    "users.select(F.col('occupation')).summary().show()"
   ]
  },
  {
   "cell_type": "markdown",
   "metadata": {},
   "source": [
    "### Step 17. What is the mean age of users?"
   ]
  },
  {
   "cell_type": "code",
   "execution_count": 38,
   "metadata": {},
   "outputs": [
    {
     "name": "stdout",
     "output_type": "stream",
     "text": [
      "+-----------------+\n",
      "|         avg(age)|\n",
      "+-----------------+\n",
      "|34.05196182396607|\n",
      "+-----------------+\n",
      "\n"
     ]
    }
   ],
   "source": [
    "users.agg({'age': 'mean'}).show()"
   ]
  },
  {
   "cell_type": "markdown",
   "metadata": {},
   "source": [
    "### Step 18. What is the age with least occurrence?"
   ]
  },
  {
   "cell_type": "code",
   "execution_count": 41,
   "metadata": {},
   "outputs": [
    {
     "data": {
      "text/plain": [
       "[Row(age=7, count=1),\n",
       " Row(age=10, count=1),\n",
       " Row(age=73, count=1),\n",
       " Row(age=11, count=1),\n",
       " Row(age=66, count=1)]"
      ]
     },
     "execution_count": 41,
     "metadata": {},
     "output_type": "execute_result"
    }
   ],
   "source": [
    "users.groupBy('age').count().orderBy('count', ascending=True).where(F.col('count') < 2).take(10)"
   ]
  },
  {
   "cell_type": "code",
   "execution_count": null,
   "metadata": {},
   "outputs": [],
   "source": []
  }
 ],
 "metadata": {
  "anaconda-cloud": {},
  "kernelspec": {
   "display_name": "Python 3",
   "language": "python",
   "name": "python3"
  },
  "language_info": {
   "codemirror_mode": {
    "name": "ipython",
    "version": 3
   },
   "file_extension": ".py",
   "mimetype": "text/x-python",
   "name": "python",
   "nbconvert_exporter": "python",
   "pygments_lexer": "ipython3",
   "version": "3.7.11"
  }
 },
 "nbformat": 4,
 "nbformat_minor": 1
}
