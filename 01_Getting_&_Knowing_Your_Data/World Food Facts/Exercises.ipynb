{
 "cells": [
  {
   "cell_type": "markdown",
   "metadata": {},
   "source": [
    "# Exercise 1"
   ]
  },
  {
   "cell_type": "markdown",
   "metadata": {},
   "source": [
    "### Step 1. Go to https://www.kaggle.com/openfoodfacts/world-food-facts/data"
   ]
  },
  {
   "cell_type": "markdown",
   "metadata": {},
   "source": [
    "### Step 2. Download the dataset to your computer and unzip it."
   ]
  },
  {
   "cell_type": "markdown",
   "metadata": {},
   "source": [
    "### Step 3. Use the tsv file and assign it to a dataframe called food"
   ]
  },
  {
   "cell_type": "code",
   "execution_count": 7,
   "metadata": {},
   "outputs": [],
   "source": [
    "from pyspark.sql import SparkSession\n",
    "from pyspark.sql import functions as F\n",
    "from pyspark.sql import types as T\n",
    "\n",
    "spark = SparkSession.builder.appName(\"World Food Facts\").getOrCreate()\n",
    "file_name = 'en.openfoodfacts.org.products.tsv'\n",
    "food = spark.read.csv(file_name, sep='\\t', header=True, inferSchema= True)"
   ]
  },
  {
   "cell_type": "markdown",
   "metadata": {},
   "source": [
    "### Step 4. See the first 5 entries"
   ]
  },
  {
   "cell_type": "code",
   "execution_count": 12,
   "metadata": {},
   "outputs": [
    {
     "data": {
      "text/plain": [
       "[Row(code=3087.0, url='http://world-en.openfoodfacts.org/product/0000000003087/farine-de-ble-noir-ferme-t-y-r-nao', creator='openfoodfacts-contributors', created_t='1474103866', created_datetime='2016-09-17T09:17:46Z', last_modified_t='1474103893', last_modified_datetime='2016-09-17T09:18:13Z', product_name='Farine de blé noir', generic_name=None, quantity='1kg', packaging=None, packaging_tags=None, brands=\"Ferme t'y R'nao\", brands_tags='ferme-t-y-r-nao', categories=None, categories_tags=None, categories_en=None, origins=None, origins_tags=None, manufacturing_places=None, manufacturing_places_tags=None, labels=None, labels_tags=None, labels_en=None, emb_codes=None, emb_codes_tags=None, first_packaging_code_geo=None, cities=None, cities_tags=None, purchase_places=None, stores=None, countries='en:FR', countries_tags='en:france', countries_en='France', ingredients_text=None, allergens=None, allergens_en=None, traces=None, traces_tags=None, traces_en=None, serving_size=None, no_nutriments=None, additives_n=None, additives=None, additives_tags=None, additives_en=None, ingredients_from_palm_oil_n=None, ingredients_from_palm_oil=None, ingredients_from_palm_oil_tags=None, ingredients_that_may_be_from_palm_oil_n=None, ingredients_that_may_be_from_palm_oil=None, ingredients_that_may_be_from_palm_oil_tags=None, nutrition_grade_uk=None, nutrition_grade_fr=None, pnns_groups_1=None, pnns_groups_2=None, states='en:to-be-completed, en:nutrition-facts-to-be-completed, en:ingredients-to-be-completed, en:expiration-date-to-be-completed, en:characteristics-to-be-completed, en:categories-to-be-completed, en:brands-completed, en:packaging-to-be-completed, en:quantity-completed, en:product-name-completed, en:photos-to-be-validated, en:photos-uploaded', states_tags='en:to-be-completed,en:nutrition-facts-to-be-completed,en:ingredients-to-be-completed,en:expiration-date-to-be-completed,en:characteristics-to-be-completed,en:categories-to-be-completed,en:brands-completed,en:packaging-to-be-completed,en:quantity-completed,en:product-name-completed,en:photos-to-be-validated,en:photos-uploaded', states_en='To be completed,Nutrition facts to be completed,Ingredients to be completed,Expiration date to be completed,Characteristics to be completed,Categories to be completed,Brands completed,Packaging to be completed,Quantity completed,Product name completed,Photos to be validated,Photos uploaded', main_category=None, main_category_en=None, image_url=None, image_small_url=None, energy_100g=None, energy-from-fat_100g=None, fat_100g=None, saturated-fat_100g=None, -butyric-acid_100g=None, -caproic-acid_100g=None, -caprylic-acid_100g=None, -capric-acid_100g=None, -lauric-acid_100g=None, -myristic-acid_100g=None, -palmitic-acid_100g=None, -stearic-acid_100g=None, -arachidic-acid_100g=None, -behenic-acid_100g=None, -lignoceric-acid_100g=None, -cerotic-acid_100g=None, -montanic-acid_100g=None, -melissic-acid_100g=None, monounsaturated-fat_100g=None, polyunsaturated-fat_100g=None, omega-3-fat_100g=None, -alpha-linolenic-acid_100g=None, -eicosapentaenoic-acid_100g=None, -docosahexaenoic-acid_100g=None, omega-6-fat_100g=None, -linoleic-acid_100g=None, -arachidonic-acid_100g=None, -gamma-linolenic-acid_100g=None, -dihomo-gamma-linolenic-acid_100g=None, omega-9-fat_100g=None, -oleic-acid_100g=None, -elaidic-acid_100g=None, -gondoic-acid_100g=None, -mead-acid_100g=None, -erucic-acid_100g=None, -nervonic-acid_100g=None, trans-fat_100g=None, cholesterol_100g=None, carbohydrates_100g=None, sugars_100g=None, -sucrose_100g=None, -glucose_100g=None, -fructose_100g=None, -lactose_100g=None, -maltose_100g=None, -maltodextrins_100g=None, starch_100g=None, polyols_100g=None, fiber_100g=None, proteins_100g=None, casein_100g=None, serum-proteins_100g=None, nucleotides_100g=None, salt_100g=None, sodium_100g=None, alcohol_100g=None, vitamin-a_100g=None, beta-carotene_100g=None, vitamin-d_100g=None, vitamin-e_100g=None, vitamin-k_100g=None, vitamin-c_100g=None, vitamin-b1_100g=None, vitamin-b2_100g=None, vitamin-pp_100g=None, vitamin-b6_100g=None, vitamin-b9_100g=None, folates_100g=None, vitamin-b12_100g=None, biotin_100g=None, pantothenic-acid_100g=None, silica_100g=None, bicarbonate_100g=None, potassium_100g=None, chloride_100g=None, calcium_100g=None, phosphorus_100g=None, iron_100g=None, magnesium_100g=None, zinc_100g=None, copper_100g=None, manganese_100g=None, fluoride_100g=None, selenium_100g=None, chromium_100g=None, molybdenum_100g=None, iodine_100g=None, caffeine_100g=None, taurine_100g=None, ph_100g=None, fruits-vegetables-nuts_100g=None, fruits-vegetables-nuts-estimate_100g=None, collagen-meat-protein-ratio_100g=None, cocoa_100g=None, chlorophyl_100g=None, carbon-footprint_100g=None, nutrition-score-fr_100g=None, nutrition-score-uk_100g=None, glycemic-index_100g=None, water-hardness_100g=None),\n",
       " Row(code=4530.0, url='http://world-en.openfoodfacts.org/product/0000000004530/banana-chips-sweetened-whole', creator='usda-ndb-import', created_t='1489069957', created_datetime='2017-03-09T14:32:37Z', last_modified_t='1489069957', last_modified_datetime='2017-03-09T14:32:37Z', product_name='Banana Chips Sweetened (Whole)', generic_name=None, quantity=None, packaging=None, packaging_tags=None, brands=None, brands_tags=None, categories=None, categories_tags=None, categories_en=None, origins=None, origins_tags=None, manufacturing_places=None, manufacturing_places_tags=None, labels=None, labels_tags=None, labels_en=None, emb_codes=None, emb_codes_tags=None, first_packaging_code_geo=None, cities=None, cities_tags=None, purchase_places=None, stores=None, countries='US', countries_tags='en:united-states', countries_en='United States', ingredients_text='Bananas, vegetable oil (coconut oil, corn oil and/or palm oil) sugar, natural banana flavor.', allergens=None, allergens_en=None, traces=None, traces_tags=None, traces_en=None, serving_size='28 g (1 ONZ)', no_nutriments=None, additives_n=0, additives=' [ bananas -> en:bananas  ]  [ vegetable-oil -> en:vegetable-oil  ]  [ oil -> en:oil  ]  [ coconut-oil -> en:coconut-oil  ]  [ oil -> en:oil  ]  [ corn-oil-and-or-palm-oil-sugar -> en:corn-oil-and-or-palm-oil-sugar  ]  [ oil-and-or-palm-oil-sugar -> en:oil-and-or-palm-oil-sugar  ]  [ and-or-palm-oil-sugar -> en:and-or-palm-oil-sugar  ]  [ or-palm-oil-sugar -> en:or-palm-oil-sugar  ]  [ palm-oil-sugar -> en:palm-oil-sugar  ]  [ oil-sugar -> en:oil-sugar  ]  [ sugar -> en:sugar  ]  [ natural-banana-flavor -> en:natural-banana-flavor  ]  [ banana-flavor -> en:banana-flavor  ]  [ flavor -> en:flavor  ] ', additives_tags=None, additives_en=None, ingredients_from_palm_oil_n=0, ingredients_from_palm_oil=None, ingredients_from_palm_oil_tags=None, ingredients_that_may_be_from_palm_oil_n=0, ingredients_that_may_be_from_palm_oil=None, ingredients_that_may_be_from_palm_oil_tags=None, nutrition_grade_uk=None, nutrition_grade_fr='d', pnns_groups_1=None, pnns_groups_2=None, states='en:to-be-completed, en:nutrition-facts-completed, en:ingredients-completed, en:expiration-date-to-be-completed, en:packaging-code-to-be-completed, en:characteristics-to-be-completed, en:categories-to-be-completed, en:brands-to-be-completed, en:packaging-to-be-completed, en:quantity-to-be-completed, en:product-name-completed, en:photos-to-be-uploaded', states_tags='en:to-be-completed,en:nutrition-facts-completed,en:ingredients-completed,en:expiration-date-to-be-completed,en:packaging-code-to-be-completed,en:characteristics-to-be-completed,en:categories-to-be-completed,en:brands-to-be-completed,en:packaging-to-be-completed,en:quantity-to-be-completed,en:product-name-completed,en:photos-to-be-uploaded', states_en='To be completed,Nutrition facts completed,Ingredients completed,Expiration date to be completed,Packaging-code-to-be-completed,Characteristics to be completed,Categories to be completed,Brands to be completed,Packaging to be completed,Quantity to be completed,Product name completed,Photos to be uploaded', main_category=None, main_category_en=None, image_url=None, image_small_url=None, energy_100g=2243.0, energy-from-fat_100g=None, fat_100g=28.57, saturated-fat_100g=28.57, -butyric-acid_100g=None, -caproic-acid_100g=None, -caprylic-acid_100g=None, -capric-acid_100g=None, -lauric-acid_100g=None, -myristic-acid_100g=None, -palmitic-acid_100g=None, -stearic-acid_100g=None, -arachidic-acid_100g=None, -behenic-acid_100g=None, -lignoceric-acid_100g=None, -cerotic-acid_100g=None, -montanic-acid_100g=None, -melissic-acid_100g=None, monounsaturated-fat_100g=None, polyunsaturated-fat_100g=None, omega-3-fat_100g=None, -alpha-linolenic-acid_100g=None, -eicosapentaenoic-acid_100g=None, -docosahexaenoic-acid_100g=None, omega-6-fat_100g=None, -linoleic-acid_100g=None, -arachidonic-acid_100g=None, -gamma-linolenic-acid_100g=None, -dihomo-gamma-linolenic-acid_100g=None, omega-9-fat_100g=None, -oleic-acid_100g=None, -elaidic-acid_100g=None, -gondoic-acid_100g=None, -mead-acid_100g=None, -erucic-acid_100g=None, -nervonic-acid_100g=None, trans-fat_100g=0.0, cholesterol_100g=0.018, carbohydrates_100g=64.29, sugars_100g=14.29, -sucrose_100g=None, -glucose_100g=None, -fructose_100g=None, -lactose_100g=None, -maltose_100g=None, -maltodextrins_100g=None, starch_100g=None, polyols_100g=None, fiber_100g=3.6, proteins_100g=3.57, casein_100g=None, serum-proteins_100g=None, nucleotides_100g=None, salt_100g=0.0, sodium_100g=0.0, alcohol_100g=None, vitamin-a_100g=0.0, beta-carotene_100g=None, vitamin-d_100g=None, vitamin-e_100g=None, vitamin-k_100g=None, vitamin-c_100g=0.0214, vitamin-b1_100g=None, vitamin-b2_100g=None, vitamin-pp_100g=None, vitamin-b6_100g=None, vitamin-b9_100g=None, folates_100g=None, vitamin-b12_100g=None, biotin_100g=None, pantothenic-acid_100g=None, silica_100g=None, bicarbonate_100g=None, potassium_100g=None, chloride_100g=None, calcium_100g=0.0, phosphorus_100g=None, iron_100g=0.00129, magnesium_100g=None, zinc_100g=None, copper_100g=None, manganese_100g=None, fluoride_100g=None, selenium_100g=None, chromium_100g=None, molybdenum_100g=None, iodine_100g=None, caffeine_100g=None, taurine_100g=None, ph_100g=None, fruits-vegetables-nuts_100g=None, fruits-vegetables-nuts-estimate_100g=None, collagen-meat-protein-ratio_100g=None, cocoa_100g=None, chlorophyl_100g=None, carbon-footprint_100g=None, nutrition-score-fr_100g=14, nutrition-score-uk_100g=14, glycemic-index_100g=None, water-hardness_100g=None),\n",
       " Row(code=4559.0, url='http://world-en.openfoodfacts.org/product/0000000004559/peanuts-torn-glasser', creator='usda-ndb-import', created_t='1489069957', created_datetime='2017-03-09T14:32:37Z', last_modified_t='1489069957', last_modified_datetime='2017-03-09T14:32:37Z', product_name='Peanuts', generic_name=None, quantity=None, packaging=None, packaging_tags=None, brands='Torn & Glasser', brands_tags='torn-glasser', categories=None, categories_tags=None, categories_en=None, origins=None, origins_tags=None, manufacturing_places=None, manufacturing_places_tags=None, labels=None, labels_tags=None, labels_en=None, emb_codes=None, emb_codes_tags=None, first_packaging_code_geo=None, cities=None, cities_tags=None, purchase_places=None, stores=None, countries='US', countries_tags='en:united-states', countries_en='United States', ingredients_text='Peanuts, wheat flour, sugar, rice flour, tapioca starch, salt, leavening (ammonium bicarbonate, baking soda), soy sauce (water, soybeans, wheat, salt), potato starch.', allergens=None, allergens_en=None, traces=None, traces_tags=None, traces_en=None, serving_size='28 g (0.25 cup)', no_nutriments=None, additives_n=0, additives=' [ peanuts -> en:peanuts  ]  [ wheat-flour -> en:wheat-flour  ]  [ flour -> en:flour  ]  [ sugar -> en:sugar  ]  [ rice-flour -> en:rice-flour  ]  [ flour -> en:flour  ]  [ tapioca-starch -> en:tapioca-starch  ]  [ starch -> en:starch  ]  [ salt -> en:salt  ]  [ leavening -> en:leavening  ]  [ ammonium-bicarbonate -> en:ammonium-bicarbonate  ]  [ bicarbonate -> en:bicarbonate  ]  [ baking-soda -> en:baking-soda  ]  [ soda -> en:soda  ]  [ soy-sauce -> en:soy-sauce  ]  [ sauce -> en:sauce  ]  [ water -> en:water  ]  [ soybeans -> en:soybeans  ]  [ wheat -> en:wheat  ]  [ salt -> en:salt  ]  [ potato-starch -> en:potato-starch  ]  [ starch -> en:starch  ] ', additives_tags=None, additives_en=None, ingredients_from_palm_oil_n=0, ingredients_from_palm_oil=None, ingredients_from_palm_oil_tags=None, ingredients_that_may_be_from_palm_oil_n=0, ingredients_that_may_be_from_palm_oil=None, ingredients_that_may_be_from_palm_oil_tags=None, nutrition_grade_uk=None, nutrition_grade_fr='b', pnns_groups_1=None, pnns_groups_2=None, states='en:to-be-completed, en:nutrition-facts-completed, en:ingredients-completed, en:expiration-date-to-be-completed, en:packaging-code-to-be-completed, en:characteristics-to-be-completed, en:categories-to-be-completed, en:brands-completed, en:packaging-to-be-completed, en:quantity-to-be-completed, en:product-name-completed, en:photos-to-be-uploaded', states_tags='en:to-be-completed,en:nutrition-facts-completed,en:ingredients-completed,en:expiration-date-to-be-completed,en:packaging-code-to-be-completed,en:characteristics-to-be-completed,en:categories-to-be-completed,en:brands-completed,en:packaging-to-be-completed,en:quantity-to-be-completed,en:product-name-completed,en:photos-to-be-uploaded', states_en='To be completed,Nutrition facts completed,Ingredients completed,Expiration date to be completed,Packaging-code-to-be-completed,Characteristics to be completed,Categories to be completed,Brands completed,Packaging to be completed,Quantity to be completed,Product name completed,Photos to be uploaded', main_category=None, main_category_en=None, image_url=None, image_small_url=None, energy_100g=1941.0, energy-from-fat_100g=None, fat_100g=17.86, saturated-fat_100g=0.0, -butyric-acid_100g=None, -caproic-acid_100g=None, -caprylic-acid_100g=None, -capric-acid_100g=None, -lauric-acid_100g=None, -myristic-acid_100g=None, -palmitic-acid_100g=None, -stearic-acid_100g=None, -arachidic-acid_100g=None, -behenic-acid_100g=None, -lignoceric-acid_100g=None, -cerotic-acid_100g=None, -montanic-acid_100g=None, -melissic-acid_100g=None, monounsaturated-fat_100g=None, polyunsaturated-fat_100g=None, omega-3-fat_100g=None, -alpha-linolenic-acid_100g=None, -eicosapentaenoic-acid_100g=None, -docosahexaenoic-acid_100g=None, omega-6-fat_100g=None, -linoleic-acid_100g=None, -arachidonic-acid_100g=None, -gamma-linolenic-acid_100g=None, -dihomo-gamma-linolenic-acid_100g=None, omega-9-fat_100g=None, -oleic-acid_100g=None, -elaidic-acid_100g=None, -gondoic-acid_100g=None, -mead-acid_100g=None, -erucic-acid_100g=None, -nervonic-acid_100g=None, trans-fat_100g=0.0, cholesterol_100g=0.0, carbohydrates_100g=60.71, sugars_100g=17.86, -sucrose_100g=None, -glucose_100g=None, -fructose_100g=None, -lactose_100g=None, -maltose_100g=None, -maltodextrins_100g=None, starch_100g=None, polyols_100g=None, fiber_100g=7.1, proteins_100g=17.86, casein_100g=None, serum-proteins_100g=None, nucleotides_100g=None, salt_100g=0.635, sodium_100g=0.25, alcohol_100g=None, vitamin-a_100g=0.0, beta-carotene_100g=None, vitamin-d_100g=None, vitamin-e_100g=None, vitamin-k_100g=None, vitamin-c_100g=0.0, vitamin-b1_100g=None, vitamin-b2_100g=None, vitamin-pp_100g=None, vitamin-b6_100g=None, vitamin-b9_100g=None, folates_100g=None, vitamin-b12_100g=None, biotin_100g=None, pantothenic-acid_100g=None, silica_100g=None, bicarbonate_100g=None, potassium_100g=None, chloride_100g=None, calcium_100g=0.071, phosphorus_100g=None, iron_100g=0.00129, magnesium_100g=None, zinc_100g=None, copper_100g=None, manganese_100g=None, fluoride_100g=None, selenium_100g=None, chromium_100g=None, molybdenum_100g=None, iodine_100g=None, caffeine_100g=None, taurine_100g=None, ph_100g=None, fruits-vegetables-nuts_100g=None, fruits-vegetables-nuts-estimate_100g=None, collagen-meat-protein-ratio_100g=None, cocoa_100g=None, chlorophyl_100g=None, carbon-footprint_100g=None, nutrition-score-fr_100g=0, nutrition-score-uk_100g=0, glycemic-index_100g=None, water-hardness_100g=None),\n",
       " Row(code=16087.0, url='http://world-en.openfoodfacts.org/product/0000000016087/organic-salted-nut-mix-grizzlies', creator='usda-ndb-import', created_t='1489055731', created_datetime='2017-03-09T10:35:31Z', last_modified_t='1489055731', last_modified_datetime='2017-03-09T10:35:31Z', product_name='Organic Salted Nut Mix', generic_name=None, quantity=None, packaging=None, packaging_tags=None, brands='Grizzlies', brands_tags='grizzlies', categories=None, categories_tags=None, categories_en=None, origins=None, origins_tags=None, manufacturing_places=None, manufacturing_places_tags=None, labels=None, labels_tags=None, labels_en=None, emb_codes=None, emb_codes_tags=None, first_packaging_code_geo=None, cities=None, cities_tags=None, purchase_places=None, stores=None, countries='US', countries_tags='en:united-states', countries_en='United States', ingredients_text='Organic hazelnuts, organic cashews, organic walnuts almonds, organic sunflower oil, sea salt.', allergens=None, allergens_en=None, traces=None, traces_tags=None, traces_en=None, serving_size='28 g (0.25 cup)', no_nutriments=None, additives_n=0, additives=' [ organic-hazelnuts -> en:organic-hazelnuts  ]  [ hazelnuts -> en:hazelnuts  ]  [ organic-cashews -> en:organic-cashews  ]  [ cashews -> en:cashews  ]  [ organic-walnuts-almonds -> en:organic-walnuts-almonds  ]  [ walnuts-almonds -> en:walnuts-almonds  ]  [ almonds -> en:almonds  ]  [ organic-sunflower-oil -> en:organic-sunflower-oil  ]  [ sunflower-oil -> en:sunflower-oil  ]  [ oil -> en:oil  ]  [ sea-salt -> en:sea-salt  ]  [ salt -> en:salt  ] ', additives_tags=None, additives_en=None, ingredients_from_palm_oil_n=0, ingredients_from_palm_oil=None, ingredients_from_palm_oil_tags=None, ingredients_that_may_be_from_palm_oil_n=0, ingredients_that_may_be_from_palm_oil=None, ingredients_that_may_be_from_palm_oil_tags=None, nutrition_grade_uk=None, nutrition_grade_fr='d', pnns_groups_1=None, pnns_groups_2=None, states='en:to-be-completed, en:nutrition-facts-completed, en:ingredients-completed, en:expiration-date-to-be-completed, en:packaging-code-to-be-completed, en:characteristics-to-be-completed, en:categories-to-be-completed, en:brands-completed, en:packaging-to-be-completed, en:quantity-to-be-completed, en:product-name-completed, en:photos-to-be-uploaded', states_tags='en:to-be-completed,en:nutrition-facts-completed,en:ingredients-completed,en:expiration-date-to-be-completed,en:packaging-code-to-be-completed,en:characteristics-to-be-completed,en:categories-to-be-completed,en:brands-completed,en:packaging-to-be-completed,en:quantity-to-be-completed,en:product-name-completed,en:photos-to-be-uploaded', states_en='To be completed,Nutrition facts completed,Ingredients completed,Expiration date to be completed,Packaging-code-to-be-completed,Characteristics to be completed,Categories to be completed,Brands completed,Packaging to be completed,Quantity to be completed,Product name completed,Photos to be uploaded', main_category=None, main_category_en=None, image_url=None, image_small_url=None, energy_100g=2540.0, energy-from-fat_100g=None, fat_100g=57.14, saturated-fat_100g=5.36, -butyric-acid_100g=None, -caproic-acid_100g=None, -caprylic-acid_100g=None, -capric-acid_100g=None, -lauric-acid_100g=None, -myristic-acid_100g=None, -palmitic-acid_100g=None, -stearic-acid_100g=None, -arachidic-acid_100g=None, -behenic-acid_100g=None, -lignoceric-acid_100g=None, -cerotic-acid_100g=None, -montanic-acid_100g=None, -melissic-acid_100g=None, monounsaturated-fat_100g=None, polyunsaturated-fat_100g=None, omega-3-fat_100g=None, -alpha-linolenic-acid_100g=None, -eicosapentaenoic-acid_100g=None, -docosahexaenoic-acid_100g=None, omega-6-fat_100g=None, -linoleic-acid_100g=None, -arachidonic-acid_100g=None, -gamma-linolenic-acid_100g=None, -dihomo-gamma-linolenic-acid_100g=None, omega-9-fat_100g=None, -oleic-acid_100g=None, -elaidic-acid_100g=None, -gondoic-acid_100g=None, -mead-acid_100g=None, -erucic-acid_100g=None, -nervonic-acid_100g=None, trans-fat_100g=None, cholesterol_100g=None, carbohydrates_100g=17.86, sugars_100g=3.57, -sucrose_100g=None, -glucose_100g=None, -fructose_100g=None, -lactose_100g=None, -maltose_100g=None, -maltodextrins_100g=None, starch_100g=None, polyols_100g=None, fiber_100g=7.1, proteins_100g=17.86, casein_100g=None, serum-proteins_100g=None, nucleotides_100g=None, salt_100g=1.22428, sodium_100g=0.482, alcohol_100g=None, vitamin-a_100g=None, beta-carotene_100g=None, vitamin-d_100g=None, vitamin-e_100g=None, vitamin-k_100g=None, vitamin-c_100g=None, vitamin-b1_100g=None, vitamin-b2_100g=None, vitamin-pp_100g=None, vitamin-b6_100g=None, vitamin-b9_100g=None, folates_100g=None, vitamin-b12_100g=None, biotin_100g=None, pantothenic-acid_100g=None, silica_100g=None, bicarbonate_100g=None, potassium_100g=None, chloride_100g=None, calcium_100g=0.143, phosphorus_100g=None, iron_100g=0.00514, magnesium_100g=None, zinc_100g=None, copper_100g=None, manganese_100g=None, fluoride_100g=None, selenium_100g=None, chromium_100g=None, molybdenum_100g=None, iodine_100g=None, caffeine_100g=None, taurine_100g=None, ph_100g=None, fruits-vegetables-nuts_100g=None, fruits-vegetables-nuts-estimate_100g=None, collagen-meat-protein-ratio_100g=None, cocoa_100g=None, chlorophyl_100g=None, carbon-footprint_100g=None, nutrition-score-fr_100g=12, nutrition-score-uk_100g=12, glycemic-index_100g=None, water-hardness_100g=None),\n",
       " Row(code=16094.0, url='http://world-en.openfoodfacts.org/product/0000000016094/organic-polenta-bob-s-red-mill', creator='usda-ndb-import', created_t='1489055653', created_datetime='2017-03-09T10:34:13Z', last_modified_t='1489055653', last_modified_datetime='2017-03-09T10:34:13Z', product_name='Organic Polenta', generic_name=None, quantity=None, packaging=None, packaging_tags=None, brands=\"Bob's Red Mill\", brands_tags='bob-s-red-mill', categories=None, categories_tags=None, categories_en=None, origins=None, origins_tags=None, manufacturing_places=None, manufacturing_places_tags=None, labels=None, labels_tags=None, labels_en=None, emb_codes=None, emb_codes_tags=None, first_packaging_code_geo=None, cities=None, cities_tags=None, purchase_places=None, stores=None, countries='US', countries_tags='en:united-states', countries_en='United States', ingredients_text='Organic polenta', allergens=None, allergens_en=None, traces=None, traces_tags=None, traces_en=None, serving_size='35 g (0.25 cup)', no_nutriments=None, additives_n=0, additives=' [ organic-polenta -> en:organic-polenta  ]  [ polenta -> en:polenta  ] ', additives_tags=None, additives_en=None, ingredients_from_palm_oil_n=0, ingredients_from_palm_oil=None, ingredients_from_palm_oil_tags=None, ingredients_that_may_be_from_palm_oil_n=0, ingredients_that_may_be_from_palm_oil=None, ingredients_that_may_be_from_palm_oil_tags=None, nutrition_grade_uk=None, nutrition_grade_fr=None, pnns_groups_1=None, pnns_groups_2=None, states='en:to-be-completed, en:nutrition-facts-completed, en:ingredients-completed, en:expiration-date-to-be-completed, en:packaging-code-to-be-completed, en:characteristics-to-be-completed, en:categories-to-be-completed, en:brands-completed, en:packaging-to-be-completed, en:quantity-to-be-completed, en:product-name-completed, en:photos-to-be-uploaded', states_tags='en:to-be-completed,en:nutrition-facts-completed,en:ingredients-completed,en:expiration-date-to-be-completed,en:packaging-code-to-be-completed,en:characteristics-to-be-completed,en:categories-to-be-completed,en:brands-completed,en:packaging-to-be-completed,en:quantity-to-be-completed,en:product-name-completed,en:photos-to-be-uploaded', states_en='To be completed,Nutrition facts completed,Ingredients completed,Expiration date to be completed,Packaging-code-to-be-completed,Characteristics to be completed,Categories to be completed,Brands completed,Packaging to be completed,Quantity to be completed,Product name completed,Photos to be uploaded', main_category=None, main_category_en=None, image_url=None, image_small_url=None, energy_100g=1552.0, energy-from-fat_100g=None, fat_100g=1.43, saturated-fat_100g=None, -butyric-acid_100g=None, -caproic-acid_100g=None, -caprylic-acid_100g=None, -capric-acid_100g=None, -lauric-acid_100g=None, -myristic-acid_100g=None, -palmitic-acid_100g=None, -stearic-acid_100g=None, -arachidic-acid_100g=None, -behenic-acid_100g=None, -lignoceric-acid_100g=None, -cerotic-acid_100g=None, -montanic-acid_100g=None, -melissic-acid_100g=None, monounsaturated-fat_100g=None, polyunsaturated-fat_100g=None, omega-3-fat_100g=None, -alpha-linolenic-acid_100g=None, -eicosapentaenoic-acid_100g=None, -docosahexaenoic-acid_100g=None, omega-6-fat_100g=None, -linoleic-acid_100g=None, -arachidonic-acid_100g=None, -gamma-linolenic-acid_100g=None, -dihomo-gamma-linolenic-acid_100g=None, omega-9-fat_100g=None, -oleic-acid_100g=None, -elaidic-acid_100g=None, -gondoic-acid_100g=None, -mead-acid_100g=None, -erucic-acid_100g=None, -nervonic-acid_100g=None, trans-fat_100g=None, cholesterol_100g=None, carbohydrates_100g=77.14, sugars_100g=None, -sucrose_100g=None, -glucose_100g=None, -fructose_100g=None, -lactose_100g=None, -maltose_100g=None, -maltodextrins_100g=None, starch_100g=None, polyols_100g=None, fiber_100g=5.7, proteins_100g=8.57, casein_100g=None, serum-proteins_100g=None, nucleotides_100g=None, salt_100g=None, sodium_100g=None, alcohol_100g=None, vitamin-a_100g=None, beta-carotene_100g=None, vitamin-d_100g=None, vitamin-e_100g=None, vitamin-k_100g=None, vitamin-c_100g=None, vitamin-b1_100g=None, vitamin-b2_100g=None, vitamin-pp_100g=None, vitamin-b6_100g=None, vitamin-b9_100g=None, folates_100g=None, vitamin-b12_100g=None, biotin_100g=None, pantothenic-acid_100g=None, silica_100g=None, bicarbonate_100g=None, potassium_100g=None, chloride_100g=None, calcium_100g=None, phosphorus_100g=None, iron_100g=None, magnesium_100g=None, zinc_100g=None, copper_100g=None, manganese_100g=None, fluoride_100g=None, selenium_100g=None, chromium_100g=None, molybdenum_100g=None, iodine_100g=None, caffeine_100g=None, taurine_100g=None, ph_100g=None, fruits-vegetables-nuts_100g=None, fruits-vegetables-nuts-estimate_100g=None, collagen-meat-protein-ratio_100g=None, cocoa_100g=None, chlorophyl_100g=None, carbon-footprint_100g=None, nutrition-score-fr_100g=None, nutrition-score-uk_100g=None, glycemic-index_100g=None, water-hardness_100g=None)]"
      ]
     },
     "execution_count": 12,
     "metadata": {},
     "output_type": "execute_result"
    }
   ],
   "source": [
    "food.head(5)"
   ]
  },
  {
   "cell_type": "markdown",
   "metadata": {},
   "source": [
    "### Step 5. What is the number of observations in the dataset?"
   ]
  },
  {
   "cell_type": "code",
   "execution_count": 13,
   "metadata": {},
   "outputs": [
    {
     "data": {
      "text/plain": [
       "356027"
      ]
     },
     "execution_count": 13,
     "metadata": {},
     "output_type": "execute_result"
    }
   ],
   "source": [
    "food.count()"
   ]
  },
  {
   "cell_type": "markdown",
   "metadata": {},
   "source": [
    "### Step 6. What is the number of columns in the dataset?"
   ]
  },
  {
   "cell_type": "code",
   "execution_count": 17,
   "metadata": {},
   "outputs": [
    {
     "data": {
      "text/plain": [
       "163"
      ]
     },
     "execution_count": 17,
     "metadata": {},
     "output_type": "execute_result"
    }
   ],
   "source": [
    "len(food.columns)"
   ]
  },
  {
   "cell_type": "markdown",
   "metadata": {},
   "source": [
    "### Step 7. Print the name of all the columns."
   ]
  },
  {
   "cell_type": "code",
   "execution_count": 19,
   "metadata": {},
   "outputs": [
    {
     "data": {
      "text/plain": [
       "['code',\n",
       " 'url',\n",
       " 'creator',\n",
       " 'created_t',\n",
       " 'created_datetime',\n",
       " 'last_modified_t',\n",
       " 'last_modified_datetime',\n",
       " 'product_name',\n",
       " 'generic_name',\n",
       " 'quantity',\n",
       " 'packaging',\n",
       " 'packaging_tags',\n",
       " 'brands',\n",
       " 'brands_tags',\n",
       " 'categories',\n",
       " 'categories_tags',\n",
       " 'categories_en',\n",
       " 'origins',\n",
       " 'origins_tags',\n",
       " 'manufacturing_places',\n",
       " 'manufacturing_places_tags',\n",
       " 'labels',\n",
       " 'labels_tags',\n",
       " 'labels_en',\n",
       " 'emb_codes',\n",
       " 'emb_codes_tags',\n",
       " 'first_packaging_code_geo',\n",
       " 'cities',\n",
       " 'cities_tags',\n",
       " 'purchase_places',\n",
       " 'stores',\n",
       " 'countries',\n",
       " 'countries_tags',\n",
       " 'countries_en',\n",
       " 'ingredients_text',\n",
       " 'allergens',\n",
       " 'allergens_en',\n",
       " 'traces',\n",
       " 'traces_tags',\n",
       " 'traces_en',\n",
       " 'serving_size',\n",
       " 'no_nutriments',\n",
       " 'additives_n',\n",
       " 'additives',\n",
       " 'additives_tags',\n",
       " 'additives_en',\n",
       " 'ingredients_from_palm_oil_n',\n",
       " 'ingredients_from_palm_oil',\n",
       " 'ingredients_from_palm_oil_tags',\n",
       " 'ingredients_that_may_be_from_palm_oil_n',\n",
       " 'ingredients_that_may_be_from_palm_oil',\n",
       " 'ingredients_that_may_be_from_palm_oil_tags',\n",
       " 'nutrition_grade_uk',\n",
       " 'nutrition_grade_fr',\n",
       " 'pnns_groups_1',\n",
       " 'pnns_groups_2',\n",
       " 'states',\n",
       " 'states_tags',\n",
       " 'states_en',\n",
       " 'main_category',\n",
       " 'main_category_en',\n",
       " 'image_url',\n",
       " 'image_small_url',\n",
       " 'energy_100g',\n",
       " 'energy-from-fat_100g',\n",
       " 'fat_100g',\n",
       " 'saturated-fat_100g',\n",
       " '-butyric-acid_100g',\n",
       " '-caproic-acid_100g',\n",
       " '-caprylic-acid_100g',\n",
       " '-capric-acid_100g',\n",
       " '-lauric-acid_100g',\n",
       " '-myristic-acid_100g',\n",
       " '-palmitic-acid_100g',\n",
       " '-stearic-acid_100g',\n",
       " '-arachidic-acid_100g',\n",
       " '-behenic-acid_100g',\n",
       " '-lignoceric-acid_100g',\n",
       " '-cerotic-acid_100g',\n",
       " '-montanic-acid_100g',\n",
       " '-melissic-acid_100g',\n",
       " 'monounsaturated-fat_100g',\n",
       " 'polyunsaturated-fat_100g',\n",
       " 'omega-3-fat_100g',\n",
       " '-alpha-linolenic-acid_100g',\n",
       " '-eicosapentaenoic-acid_100g',\n",
       " '-docosahexaenoic-acid_100g',\n",
       " 'omega-6-fat_100g',\n",
       " '-linoleic-acid_100g',\n",
       " '-arachidonic-acid_100g',\n",
       " '-gamma-linolenic-acid_100g',\n",
       " '-dihomo-gamma-linolenic-acid_100g',\n",
       " 'omega-9-fat_100g',\n",
       " '-oleic-acid_100g',\n",
       " '-elaidic-acid_100g',\n",
       " '-gondoic-acid_100g',\n",
       " '-mead-acid_100g',\n",
       " '-erucic-acid_100g',\n",
       " '-nervonic-acid_100g',\n",
       " 'trans-fat_100g',\n",
       " 'cholesterol_100g',\n",
       " 'carbohydrates_100g',\n",
       " 'sugars_100g',\n",
       " '-sucrose_100g',\n",
       " '-glucose_100g',\n",
       " '-fructose_100g',\n",
       " '-lactose_100g',\n",
       " '-maltose_100g',\n",
       " '-maltodextrins_100g',\n",
       " 'starch_100g',\n",
       " 'polyols_100g',\n",
       " 'fiber_100g',\n",
       " 'proteins_100g',\n",
       " 'casein_100g',\n",
       " 'serum-proteins_100g',\n",
       " 'nucleotides_100g',\n",
       " 'salt_100g',\n",
       " 'sodium_100g',\n",
       " 'alcohol_100g',\n",
       " 'vitamin-a_100g',\n",
       " 'beta-carotene_100g',\n",
       " 'vitamin-d_100g',\n",
       " 'vitamin-e_100g',\n",
       " 'vitamin-k_100g',\n",
       " 'vitamin-c_100g',\n",
       " 'vitamin-b1_100g',\n",
       " 'vitamin-b2_100g',\n",
       " 'vitamin-pp_100g',\n",
       " 'vitamin-b6_100g',\n",
       " 'vitamin-b9_100g',\n",
       " 'folates_100g',\n",
       " 'vitamin-b12_100g',\n",
       " 'biotin_100g',\n",
       " 'pantothenic-acid_100g',\n",
       " 'silica_100g',\n",
       " 'bicarbonate_100g',\n",
       " 'potassium_100g',\n",
       " 'chloride_100g',\n",
       " 'calcium_100g',\n",
       " 'phosphorus_100g',\n",
       " 'iron_100g',\n",
       " 'magnesium_100g',\n",
       " 'zinc_100g',\n",
       " 'copper_100g',\n",
       " 'manganese_100g',\n",
       " 'fluoride_100g',\n",
       " 'selenium_100g',\n",
       " 'chromium_100g',\n",
       " 'molybdenum_100g',\n",
       " 'iodine_100g',\n",
       " 'caffeine_100g',\n",
       " 'taurine_100g',\n",
       " 'ph_100g',\n",
       " 'fruits-vegetables-nuts_100g',\n",
       " 'fruits-vegetables-nuts-estimate_100g',\n",
       " 'collagen-meat-protein-ratio_100g',\n",
       " 'cocoa_100g',\n",
       " 'chlorophyl_100g',\n",
       " 'carbon-footprint_100g',\n",
       " 'nutrition-score-fr_100g',\n",
       " 'nutrition-score-uk_100g',\n",
       " 'glycemic-index_100g',\n",
       " 'water-hardness_100g']"
      ]
     },
     "execution_count": 19,
     "metadata": {},
     "output_type": "execute_result"
    }
   ],
   "source": [
    "food.columns"
   ]
  },
  {
   "cell_type": "markdown",
   "metadata": {},
   "source": [
    "### Step 8. What is the name of 105th column?"
   ]
  },
  {
   "cell_type": "code",
   "execution_count": 20,
   "metadata": {},
   "outputs": [
    {
     "data": {
      "text/plain": [
       "'-glucose_100g'"
      ]
     },
     "execution_count": 20,
     "metadata": {},
     "output_type": "execute_result"
    }
   ],
   "source": [
    "food.columns[104]"
   ]
  },
  {
   "cell_type": "markdown",
   "metadata": {},
   "source": [
    "### Step 9. What is the type of the observations of the 105th column?"
   ]
  },
  {
   "cell_type": "code",
   "execution_count": 25,
   "metadata": {},
   "outputs": [
    {
     "data": {
      "text/plain": [
       "('-glucose_100g', 'double')"
      ]
     },
     "execution_count": 25,
     "metadata": {},
     "output_type": "execute_result"
    }
   ],
   "source": [
    "food.select(F.col('-glucose_100g')).dtypes[0]"
   ]
  },
  {
   "cell_type": "markdown",
   "metadata": {},
   "source": [
    "### Step 10. How is the dataset indexed?"
   ]
  },
  {
   "cell_type": "code",
   "execution_count": 26,
   "metadata": {},
   "outputs": [],
   "source": [
    "#"
   ]
  },
  {
   "cell_type": "markdown",
   "metadata": {},
   "source": [
    "### Step 11. What is the product name of the 19th observation?"
   ]
  },
  {
   "cell_type": "code",
   "execution_count": 32,
   "metadata": {},
   "outputs": [
    {
     "data": {
      "text/plain": [
       "Row(product_name='Lotus Organic Brown Jasmine Rice')"
      ]
     },
     "execution_count": 32,
     "metadata": {},
     "output_type": "execute_result"
    }
   ],
   "source": [
    "food.select(F.col('product_name')).collect()[18]"
   ]
  },
  {
   "cell_type": "code",
   "execution_count": null,
   "metadata": {},
   "outputs": [],
   "source": []
  }
 ],
 "metadata": {
  "anaconda-cloud": {},
  "kernelspec": {
   "display_name": "Python 3",
   "language": "python",
   "name": "python3"
  },
  "language_info": {
   "codemirror_mode": {
    "name": "ipython",
    "version": 3
   },
   "file_extension": ".py",
   "mimetype": "text/x-python",
   "name": "python",
   "nbconvert_exporter": "python",
   "pygments_lexer": "ipython3",
   "version": "3.7.11"
  }
 },
 "nbformat": 4,
 "nbformat_minor": 1
}
