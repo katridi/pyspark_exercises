{
 "cells": [
  {
   "cell_type": "markdown",
   "metadata": {},
   "source": [
    "# Ex2 - Filtering and Sorting Data"
   ]
  },
  {
   "cell_type": "markdown",
   "metadata": {},
   "source": [
    "This time we are going to pull data directly from the internet.\n",
    "\n",
    "### Step 1. Import the necessary libraries"
   ]
  },
  {
   "cell_type": "code",
   "execution_count": 1,
   "metadata": {},
   "outputs": [],
   "source": [
    "from pyspark.sql import SparkSession\n",
    "from pyspark.sql import functions as F\n",
    "from pyspark.sql import types as T\n",
    "\n",
    "spark = SparkSession.builder.appName(\"Euro12\").getOrCreate()"
   ]
  },
  {
   "cell_type": "markdown",
   "metadata": {},
   "source": [
    "### Step 2. Import the dataset from this [address](https://raw.githubusercontent.com/guipsamora/pandas_exercises/master/02_Filtering_%26_Sorting/Euro12/Euro_2012_stats_TEAM.csv). "
   ]
  },
  {
   "cell_type": "markdown",
   "metadata": {},
   "source": [
    "### Step 3. Assign it to a variable called euro12."
   ]
  },
  {
   "cell_type": "code",
   "execution_count": 3,
   "metadata": {},
   "outputs": [],
   "source": [
    "url = 'https://raw.githubusercontent.com/guipsamora/pandas_exercises/master/02_Filtering_%26_Sorting/Euro12/Euro_2012_stats_TEAM.csv'\n",
    "from pyspark import SparkFiles\n",
    "spark.sparkContext.addFile(url)\n",
    "\n",
    "euro12 = spark.read.csv(SparkFiles.get(\"Euro_2012_stats_TEAM.csv\"), sep=',', header=True, inferSchema= True)"
   ]
  },
  {
   "cell_type": "code",
   "execution_count": 52,
   "metadata": {},
   "outputs": [],
   "source": [
    "euro12 = euro12.withColumnRenamed('Total shots (inc. Blocked)', 'Total shots')"
   ]
  },
  {
   "cell_type": "code",
   "execution_count": 53,
   "metadata": {},
   "outputs": [
    {
     "name": "stdout",
     "output_type": "stream",
     "text": [
      "root\n",
      " |-- Team: string (nullable = true)\n",
      " |-- Goals: integer (nullable = true)\n",
      " |-- Shots on target: integer (nullable = true)\n",
      " |-- Shots off target: integer (nullable = true)\n",
      " |-- Shooting Accuracy: string (nullable = true)\n",
      " |-- % Goals-to-shots: string (nullable = true)\n",
      " |-- Total shots: integer (nullable = true)\n",
      " |-- Hit Woodwork: integer (nullable = true)\n",
      " |-- Penalty goals: integer (nullable = true)\n",
      " |-- Penalties not scored: integer (nullable = true)\n",
      " |-- Headed goals: integer (nullable = true)\n",
      " |-- Passes: integer (nullable = true)\n",
      " |-- Passes completed: integer (nullable = true)\n",
      " |-- Passing Accuracy: string (nullable = true)\n",
      " |-- Touches: integer (nullable = true)\n",
      " |-- Crosses: integer (nullable = true)\n",
      " |-- Dribbles: integer (nullable = true)\n",
      " |-- Corners Taken: integer (nullable = true)\n",
      " |-- Tackles: integer (nullable = true)\n",
      " |-- Clearances: integer (nullable = true)\n",
      " |-- Interceptions: integer (nullable = true)\n",
      " |-- Clearances off line: integer (nullable = true)\n",
      " |-- Clean Sheets: integer (nullable = true)\n",
      " |-- Blocks: integer (nullable = true)\n",
      " |-- Goals conceded: integer (nullable = true)\n",
      " |-- Saves made: integer (nullable = true)\n",
      " |-- Saves-to-shots ratio: string (nullable = true)\n",
      " |-- Fouls Won: integer (nullable = true)\n",
      " |-- Fouls Conceded: integer (nullable = true)\n",
      " |-- Offsides: integer (nullable = true)\n",
      " |-- Yellow Cards: integer (nullable = true)\n",
      " |-- Red Cards: integer (nullable = true)\n",
      " |-- Subs on: integer (nullable = true)\n",
      " |-- Subs off: integer (nullable = true)\n",
      " |-- Players Used: integer (nullable = true)\n",
      "\n"
     ]
    }
   ],
   "source": [
    "euro12.printSchema()"
   ]
  },
  {
   "cell_type": "markdown",
   "metadata": {},
   "source": [
    "### Step 4. Select only the Goal column."
   ]
  },
  {
   "cell_type": "code",
   "execution_count": 5,
   "metadata": {},
   "outputs": [
    {
     "data": {
      "text/plain": [
       "[Row(Goals=4),\n",
       " Row(Goals=4),\n",
       " Row(Goals=4),\n",
       " Row(Goals=5),\n",
       " Row(Goals=3),\n",
       " Row(Goals=10),\n",
       " Row(Goals=5),\n",
       " Row(Goals=6),\n",
       " Row(Goals=2),\n",
       " Row(Goals=2)]"
      ]
     },
     "execution_count": 5,
     "metadata": {},
     "output_type": "execute_result"
    }
   ],
   "source": [
    "euro12.select(F.col('Goals')).take(10)"
   ]
  },
  {
   "cell_type": "markdown",
   "metadata": {},
   "source": [
    "### Step 5. How many team participated in the Euro2012?"
   ]
  },
  {
   "cell_type": "code",
   "execution_count": 7,
   "metadata": {},
   "outputs": [
    {
     "data": {
      "text/plain": [
       "16"
      ]
     },
     "execution_count": 7,
     "metadata": {},
     "output_type": "execute_result"
    }
   ],
   "source": [
    "euro12.count()"
   ]
  },
  {
   "cell_type": "markdown",
   "metadata": {},
   "source": [
    "### Step 6. What is the number of columns in the dataset?"
   ]
  },
  {
   "cell_type": "code",
   "execution_count": 10,
   "metadata": {},
   "outputs": [
    {
     "data": {
      "text/plain": [
       "35"
      ]
     },
     "execution_count": 10,
     "metadata": {},
     "output_type": "execute_result"
    }
   ],
   "source": [
    "len(euro12.columns)"
   ]
  },
  {
   "cell_type": "markdown",
   "metadata": {},
   "source": [
    "### Step 7. View only the columns Team, Yellow Cards and Red Cards and assign them to a dataframe called discipline"
   ]
  },
  {
   "cell_type": "code",
   "execution_count": 11,
   "metadata": {},
   "outputs": [],
   "source": [
    "discipline = euro12.select(F.col('Team'), F.col('Yellow Cards'), F.col('Red Cards'))"
   ]
  },
  {
   "cell_type": "code",
   "execution_count": 12,
   "metadata": {},
   "outputs": [
    {
     "data": {
      "text/plain": [
       "[Row(Team='Croatia', Yellow Cards=9, Red Cards=0),\n",
       " Row(Team='Czech Republic', Yellow Cards=7, Red Cards=0),\n",
       " Row(Team='Denmark', Yellow Cards=4, Red Cards=0),\n",
       " Row(Team='England', Yellow Cards=5, Red Cards=0),\n",
       " Row(Team='France', Yellow Cards=6, Red Cards=0),\n",
       " Row(Team='Germany', Yellow Cards=4, Red Cards=0),\n",
       " Row(Team='Greece', Yellow Cards=9, Red Cards=1),\n",
       " Row(Team='Italy', Yellow Cards=16, Red Cards=0),\n",
       " Row(Team='Netherlands', Yellow Cards=5, Red Cards=0),\n",
       " Row(Team='Poland', Yellow Cards=7, Red Cards=1)]"
      ]
     },
     "execution_count": 12,
     "metadata": {},
     "output_type": "execute_result"
    }
   ],
   "source": [
    "discipline.take(10)"
   ]
  },
  {
   "cell_type": "markdown",
   "metadata": {},
   "source": [
    "### Step 8. Sort the teams by Red Cards, then to Yellow Cards"
   ]
  },
  {
   "cell_type": "code",
   "execution_count": 14,
   "metadata": {
    "scrolled": true
   },
   "outputs": [
    {
     "data": {
      "text/plain": [
       "[Row(Team='Greece', Yellow Cards=9, Red Cards=1),\n",
       " Row(Team='Poland', Yellow Cards=7, Red Cards=1),\n",
       " Row(Team='Republic of Ireland', Yellow Cards=6, Red Cards=1),\n",
       " Row(Team='Italy', Yellow Cards=16, Red Cards=0),\n",
       " Row(Team='Portugal', Yellow Cards=12, Red Cards=0),\n",
       " Row(Team='Spain', Yellow Cards=11, Red Cards=0),\n",
       " Row(Team='Croatia', Yellow Cards=9, Red Cards=0),\n",
       " Row(Team='Czech Republic', Yellow Cards=7, Red Cards=0),\n",
       " Row(Team='Sweden', Yellow Cards=7, Red Cards=0),\n",
       " Row(Team='France', Yellow Cards=6, Red Cards=0)]"
      ]
     },
     "execution_count": 14,
     "metadata": {},
     "output_type": "execute_result"
    }
   ],
   "source": [
    "discipline.orderBy(['Red Cards', 'Yellow Cards'], ascending=False).take(10)"
   ]
  },
  {
   "cell_type": "markdown",
   "metadata": {},
   "source": [
    "### Step 9. Calculate the mean Yellow Cards given per Team"
   ]
  },
  {
   "cell_type": "code",
   "execution_count": 19,
   "metadata": {},
   "outputs": [
    {
     "name": "stdout",
     "output_type": "stream",
     "text": [
      "+-----------------+\n",
      "|avg(Yellow Cards)|\n",
      "+-----------------+\n",
      "|           7.4375|\n",
      "+-----------------+\n",
      "\n"
     ]
    }
   ],
   "source": [
    "discipline.agg({'Yellow Cards': 'mean'}).show()"
   ]
  },
  {
   "cell_type": "markdown",
   "metadata": {},
   "source": [
    "### Step 10. Filter teams that scored more than 6 goals"
   ]
  },
  {
   "cell_type": "code",
   "execution_count": 21,
   "metadata": {},
   "outputs": [
    {
     "data": {
      "text/plain": [
       "[Row(Team='Germany'), Row(Team='Spain')]"
      ]
     },
     "execution_count": 21,
     "metadata": {},
     "output_type": "execute_result"
    }
   ],
   "source": [
    "euro12.select('Team').where(F.col('Goals') > 6).take(10)"
   ]
  },
  {
   "cell_type": "markdown",
   "metadata": {},
   "source": [
    "### Step 11. Select the teams that start with G"
   ]
  },
  {
   "cell_type": "code",
   "execution_count": 23,
   "metadata": {},
   "outputs": [
    {
     "data": {
      "text/plain": [
       "[Row(Team='Germany'), Row(Team='Greece')]"
      ]
     },
     "execution_count": 23,
     "metadata": {},
     "output_type": "execute_result"
    }
   ],
   "source": [
    "euro12.select('Team').where(F.col('Team').startswith('G')).take(10)"
   ]
  },
  {
   "cell_type": "markdown",
   "metadata": {},
   "source": [
    "### Step 12. Select the first 7 columns"
   ]
  },
  {
   "cell_type": "code",
   "execution_count": 24,
   "metadata": {},
   "outputs": [
    {
     "data": {
      "text/plain": [
       "[Row(Team='Croatia', Goals=4, Shots on target=13, Shots off target=12, Shooting Accuracy='51.9%', % Goals-to-shots='16.0%', Total shots (inc. Blocked)=32, Hit Woodwork=0, Penalty goals=0, Penalties not scored=0, Headed goals=2, Passes=1076, Passes completed=828, Passing Accuracy='76.9%', Touches=1706, Crosses=60, Dribbles=42, Corners Taken=14, Tackles=49, Clearances=83, Interceptions=56, Clearances off line=None, Clean Sheets=0, Blocks=10, Goals conceded=3, Saves made=13, Saves-to-shots ratio='81.3%', Fouls Won=41, Fouls Conceded=62, Offsides=2, Yellow Cards=9, Red Cards=0, Subs on=9, Subs off=9, Players Used=16),\n",
       " Row(Team='Czech Republic', Goals=4, Shots on target=13, Shots off target=18, Shooting Accuracy='41.9%', % Goals-to-shots='12.9%', Total shots (inc. Blocked)=39, Hit Woodwork=0, Penalty goals=0, Penalties not scored=0, Headed goals=0, Passes=1565, Passes completed=1223, Passing Accuracy='78.1%', Touches=2358, Crosses=46, Dribbles=68, Corners Taken=21, Tackles=62, Clearances=98, Interceptions=37, Clearances off line=2, Clean Sheets=1, Blocks=10, Goals conceded=6, Saves made=9, Saves-to-shots ratio='60.1%', Fouls Won=53, Fouls Conceded=73, Offsides=8, Yellow Cards=7, Red Cards=0, Subs on=11, Subs off=11, Players Used=19),\n",
       " Row(Team='Denmark', Goals=4, Shots on target=10, Shots off target=10, Shooting Accuracy='50.0%', % Goals-to-shots='20.0%', Total shots (inc. Blocked)=27, Hit Woodwork=1, Penalty goals=0, Penalties not scored=0, Headed goals=3, Passes=1298, Passes completed=1082, Passing Accuracy='83.3%', Touches=1873, Crosses=43, Dribbles=32, Corners Taken=16, Tackles=40, Clearances=61, Interceptions=59, Clearances off line=0, Clean Sheets=1, Blocks=10, Goals conceded=5, Saves made=10, Saves-to-shots ratio='66.7%', Fouls Won=25, Fouls Conceded=38, Offsides=8, Yellow Cards=4, Red Cards=0, Subs on=7, Subs off=7, Players Used=15),\n",
       " Row(Team='England', Goals=5, Shots on target=11, Shots off target=18, Shooting Accuracy='50.0%', % Goals-to-shots='17.2%', Total shots (inc. Blocked)=40, Hit Woodwork=0, Penalty goals=0, Penalties not scored=0, Headed goals=3, Passes=1488, Passes completed=1200, Passing Accuracy='80.6%', Touches=2440, Crosses=58, Dribbles=60, Corners Taken=16, Tackles=86, Clearances=106, Interceptions=72, Clearances off line=1, Clean Sheets=2, Blocks=29, Goals conceded=3, Saves made=22, Saves-to-shots ratio='88.1%', Fouls Won=43, Fouls Conceded=45, Offsides=6, Yellow Cards=5, Red Cards=0, Subs on=11, Subs off=11, Players Used=16),\n",
       " Row(Team='France', Goals=3, Shots on target=22, Shots off target=24, Shooting Accuracy='37.9%', % Goals-to-shots='6.5%', Total shots (inc. Blocked)=65, Hit Woodwork=1, Penalty goals=0, Penalties not scored=0, Headed goals=0, Passes=2066, Passes completed=1803, Passing Accuracy='87.2%', Touches=2909, Crosses=55, Dribbles=76, Corners Taken=28, Tackles=71, Clearances=76, Interceptions=58, Clearances off line=0, Clean Sheets=1, Blocks=7, Goals conceded=5, Saves made=6, Saves-to-shots ratio='54.6%', Fouls Won=36, Fouls Conceded=51, Offsides=5, Yellow Cards=6, Red Cards=0, Subs on=11, Subs off=11, Players Used=19),\n",
       " Row(Team='Germany', Goals=10, Shots on target=32, Shots off target=32, Shooting Accuracy='47.8%', % Goals-to-shots='15.6%', Total shots (inc. Blocked)=80, Hit Woodwork=2, Penalty goals=1, Penalties not scored=0, Headed goals=2, Passes=2774, Passes completed=2427, Passing Accuracy='87.4%', Touches=3761, Crosses=101, Dribbles=60, Corners Taken=35, Tackles=91, Clearances=73, Interceptions=69, Clearances off line=0, Clean Sheets=1, Blocks=11, Goals conceded=6, Saves made=10, Saves-to-shots ratio='62.6%', Fouls Won=63, Fouls Conceded=49, Offsides=12, Yellow Cards=4, Red Cards=0, Subs on=15, Subs off=15, Players Used=17),\n",
       " Row(Team='Greece', Goals=5, Shots on target=8, Shots off target=18, Shooting Accuracy='30.7%', % Goals-to-shots='19.2%', Total shots (inc. Blocked)=32, Hit Woodwork=1, Penalty goals=1, Penalties not scored=1, Headed goals=0, Passes=1187, Passes completed=911, Passing Accuracy='76.7%', Touches=2016, Crosses=52, Dribbles=53, Corners Taken=10, Tackles=65, Clearances=123, Interceptions=87, Clearances off line=0, Clean Sheets=1, Blocks=23, Goals conceded=7, Saves made=13, Saves-to-shots ratio='65.1%', Fouls Won=67, Fouls Conceded=48, Offsides=12, Yellow Cards=9, Red Cards=1, Subs on=12, Subs off=12, Players Used=20)]"
      ]
     },
     "execution_count": 24,
     "metadata": {},
     "output_type": "execute_result"
    }
   ],
   "source": [
    "euro12.head(7)"
   ]
  },
  {
   "cell_type": "markdown",
   "metadata": {},
   "source": [
    "### Step 13. Select all columns except the last 3."
   ]
  },
  {
   "cell_type": "code",
   "execution_count": 57,
   "metadata": {},
   "outputs": [
    {
     "data": {
      "text/plain": [
       "DataFrame[Team: string, Goals: int, Shots on target: int, Shots off target: int, Shooting Accuracy: string, % Goals-to-shots: string, Total shots: int, Hit Woodwork: int, Penalty goals: int, Penalties not scored: int, Headed goals: int, Passes: int, Passes completed: int, Passing Accuracy: string, Touches: int, Crosses: int, Dribbles: int, Corners Taken: int, Tackles: int, Clearances: int, Interceptions: int, Clearances off line: int, Clean Sheets: int, Blocks: int, Goals conceded: int, Saves made: int, Saves-to-shots ratio: string, Fouls Won: int, Fouls Conceded: int, Offsides: int, Yellow Cards: int, Red Cards: int]"
      ]
     },
     "execution_count": 57,
     "metadata": {},
     "output_type": "execute_result"
    }
   ],
   "source": [
    "euro12.select(euro12.columns[:-3])"
   ]
  },
  {
   "cell_type": "markdown",
   "metadata": {},
   "source": [
    "### Step 14. Present only the Shooting Accuracy from England, Italy and Russia"
   ]
  },
  {
   "cell_type": "code",
   "execution_count": 60,
   "metadata": {},
   "outputs": [
    {
     "name": "stdout",
     "output_type": "stream",
     "text": [
      "+-------+-----------------+\n",
      "|   Team|Shooting Accuracy|\n",
      "+-------+-----------------+\n",
      "|England|            50.0%|\n",
      "|  Italy|            43.0%|\n",
      "| Russia|            22.5%|\n",
      "+-------+-----------------+\n",
      "\n"
     ]
    }
   ],
   "source": [
    "euro12.select('Team', 'Shooting Accuracy').where(F.col('Team').isin(['England', 'Italy', 'Russia'])).show()"
   ]
  },
  {
   "cell_type": "code",
   "execution_count": null,
   "metadata": {},
   "outputs": [],
   "source": []
  }
 ],
 "metadata": {
  "anaconda-cloud": {},
  "kernelspec": {
   "display_name": "Python 3",
   "language": "python",
   "name": "python3"
  },
  "language_info": {
   "codemirror_mode": {
    "name": "ipython",
    "version": 3
   },
   "file_extension": ".py",
   "mimetype": "text/x-python",
   "name": "python",
   "nbconvert_exporter": "python",
   "pygments_lexer": "ipython3",
   "version": "3.7.11"
  }
 },
 "nbformat": 4,
 "nbformat_minor": 1
}
