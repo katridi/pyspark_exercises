{
 "cells": [
  {
   "cell_type": "markdown",
   "metadata": {},
   "source": [
    "# Ex - GroupBy"
   ]
  },
  {
   "cell_type": "markdown",
   "metadata": {},
   "source": [
    "### Introduction:\n",
    "\n",
    "GroupBy can be summarized as Split-Apply-Combine.\n",
    "\n",
    "Special thanks to: https://github.com/justmarkham for sharing the dataset and materials.\n",
    "\n",
    "Check out this [Diagram](http://i.imgur.com/yjNkiwL.png)  \n",
    "### Step 1. Import the necessary libraries"
   ]
  },
  {
   "cell_type": "code",
   "execution_count": 1,
   "metadata": {},
   "outputs": [],
   "source": [
    "from pyspark.sql import SparkSession\n",
    "from pyspark.sql import functions as F\n",
    "from pyspark.sql import types as T\n",
    "\n",
    "spark = SparkSession.builder.appName(\"Alcohol_Consumption\").getOrCreate()"
   ]
  },
  {
   "cell_type": "markdown",
   "metadata": {},
   "source": [
    "### Step 2. Import the dataset from this [address](https://raw.githubusercontent.com/justmarkham/DAT8/master/data/drinks.csv). "
   ]
  },
  {
   "cell_type": "markdown",
   "metadata": {},
   "source": [
    "### Step 3. Assign it to a variable called drinks."
   ]
  },
  {
   "cell_type": "code",
   "execution_count": 2,
   "metadata": {},
   "outputs": [],
   "source": [
    "url = 'https://raw.githubusercontent.com/justmarkham/DAT8/master/data/drinks.csv'\n",
    "from pyspark import SparkFiles\n",
    "spark.sparkContext.addFile(url)\n",
    "\n",
    "drinks = spark.read.csv(SparkFiles.get(\"drinks.csv\"), header=True, inferSchema= True)"
   ]
  },
  {
   "cell_type": "code",
   "execution_count": 3,
   "metadata": {},
   "outputs": [
    {
     "name": "stdout",
     "output_type": "stream",
     "text": [
      "root\n",
      " |-- country: string (nullable = true)\n",
      " |-- beer_servings: integer (nullable = true)\n",
      " |-- spirit_servings: integer (nullable = true)\n",
      " |-- wine_servings: integer (nullable = true)\n",
      " |-- total_litres_of_pure_alcohol: double (nullable = true)\n",
      " |-- continent: string (nullable = true)\n",
      "\n"
     ]
    }
   ],
   "source": [
    "drinks.printSchema()"
   ]
  },
  {
   "cell_type": "markdown",
   "metadata": {},
   "source": [
    "### Step 4. Which continent drinks more beer on average?"
   ]
  },
  {
   "cell_type": "code",
   "execution_count": 9,
   "metadata": {},
   "outputs": [
    {
     "name": "stdout",
     "output_type": "stream",
     "text": [
      "+---------+------------------+\n",
      "|continent|avg(beer_servings)|\n",
      "+---------+------------------+\n",
      "|       EU|193.77777777777777|\n",
      "|       SA|175.08333333333334|\n",
      "|       NA|145.43478260869566|\n",
      "|       OC|           89.6875|\n",
      "|       AF|61.471698113207545|\n",
      "|       AS| 37.04545454545455|\n",
      "+---------+------------------+\n",
      "\n"
     ]
    }
   ],
   "source": [
    "drinks.select(F.col('continent'), F.col('beer_servings')).\\\n",
    "groupBy('continent').avg().orderBy('avg(beer_servings)', ascending=False).show()"
   ]
  },
  {
   "cell_type": "markdown",
   "metadata": {},
   "source": [
    "### Step 5. For each continent print the statistics for wine consumption."
   ]
  },
  {
   "cell_type": "code",
   "execution_count": 14,
   "metadata": {},
   "outputs": [],
   "source": [
    "wine_continent =  drinks.select(F.col('continent'), F.col('wine_servings')).\\\n",
    "groupBy('continent').avg().orderBy('avg(wine_servings)', ascending=False)"
   ]
  },
  {
   "cell_type": "code",
   "execution_count": 18,
   "metadata": {},
   "outputs": [
    {
     "name": "stdout",
     "output_type": "stream",
     "text": [
      "+---------+------------------+\n",
      "|continent|avg(wine_servings)|\n",
      "+---------+------------------+\n",
      "|       EU|142.22222222222223|\n",
      "|       SA|62.416666666666664|\n",
      "|       OC|            35.625|\n",
      "|       NA| 24.52173913043478|\n",
      "|       AF|16.264150943396228|\n",
      "|       AS| 9.068181818181818|\n",
      "+---------+------------------+\n",
      "\n"
     ]
    }
   ],
   "source": [
    "wine_continent.show()"
   ]
  },
  {
   "cell_type": "markdown",
   "metadata": {},
   "source": [
    "### Step 6. Print the mean alcohol consumption per continent for every column"
   ]
  },
  {
   "cell_type": "code",
   "execution_count": 19,
   "metadata": {},
   "outputs": [
    {
     "name": "stdout",
     "output_type": "stream",
     "text": [
      "+---------+------------------+--------------------+------------------+---------------------------------+\n",
      "|continent|avg(beer_servings)|avg(spirit_servings)|avg(wine_servings)|avg(total_litres_of_pure_alcohol)|\n",
      "+---------+------------------+--------------------+------------------+---------------------------------+\n",
      "|       NA|145.43478260869566|   165.7391304347826| 24.52173913043478|                5.995652173913044|\n",
      "|       SA|175.08333333333334|              114.75|62.416666666666664|                6.308333333333334|\n",
      "|       AS| 37.04545454545455|   60.84090909090909| 9.068181818181818|               2.1704545454545454|\n",
      "|       OC|           89.6875|             58.4375|            35.625|               3.3812500000000005|\n",
      "|       EU|193.77777777777777|  132.55555555555554|142.22222222222223|                8.617777777777777|\n",
      "|       AF|61.471698113207545|  16.339622641509433|16.264150943396228|                 3.00754716981132|\n",
      "+---------+------------------+--------------------+------------------+---------------------------------+\n",
      "\n"
     ]
    }
   ],
   "source": [
    "drinks.groupBy('continent').avg().show()"
   ]
  },
  {
   "cell_type": "markdown",
   "metadata": {},
   "source": [
    "### Step 7. Print the median alcohol consumption per continent for every column"
   ]
  },
  {
   "cell_type": "code",
   "execution_count": 77,
   "metadata": {},
   "outputs": [
    {
     "name": "stdout",
     "output_type": "stream",
     "text": [
      "+---------+--------+----------+--------+--------------+\n",
      "|continent|50%_beer|50%_spirit|50%_wine|50%_total_ltrs|\n",
      "+---------+--------+----------+--------+--------------+\n",
      "|       NA|     143|       137|      11|           6.3|\n",
      "|       SA|     162|       100|       8|           6.6|\n",
      "|       AS|      16|        16|       1|           1.0|\n",
      "|       OC|      49|        35|       8|           1.5|\n",
      "|       EU|     219|       122|     128|          10.0|\n",
      "|       AF|      32|         3|       2|           2.3|\n",
      "+---------+--------+----------+--------+--------------+\n",
      "\n"
     ]
    }
   ],
   "source": [
    "drinks.groupby('continent').agg(\n",
    "    F.percentile_approx(\"beer_servings\", 0.5, 100000).alias('50%_beer'),\n",
    "    F.percentile_approx(\"spirit_servings\", 0.5, 100000).alias('50%_spirit'),\n",
    "    F.percentile_approx(\"wine_servings\", 0.5, 100000).alias('50%_wine'),\n",
    "    F.percentile_approx(\"total_litres_of_pure_alcohol\", 0.5, 100000).alias('50%_total_ltrs')\n",
    ").show()"
   ]
  },
  {
   "cell_type": "markdown",
   "metadata": {},
   "source": [
    "### Step 8. Print the mean, min and max values for spirit consumption.\n",
    "#### This time output a DataFrame"
   ]
  },
  {
   "cell_type": "code",
   "execution_count": 68,
   "metadata": {},
   "outputs": [
    {
     "name": "stdout",
     "output_type": "stream",
     "text": [
      "+---------+-------------------+-------------------+-------------------+\n",
      "|continent|avg_spirit_servings|min_spirit_servings|max_spirit_servings|\n",
      "+---------+-------------------+-------------------+-------------------+\n",
      "|       NA|  165.7391304347826|                 68|                438|\n",
      "|       SA|             114.75|                 25|                302|\n",
      "|       AS|  60.84090909090909|                  0|                326|\n",
      "|       OC|            58.4375|                  0|                254|\n",
      "|       EU| 132.55555555555554|                  0|                373|\n",
      "|       AF| 16.339622641509433|                  0|                152|\n",
      "+---------+-------------------+-------------------+-------------------+\n",
      "\n"
     ]
    }
   ],
   "source": [
    "drinks.select('continent', 'spirit_servings').groupby('continent').agg(\n",
    "        F.avg(F.col('spirit_servings')).alias('avg_spirit_servings'),\n",
    "        F.min(F.col('spirit_servings')).alias('min_spirit_servings'),\n",
    "        F.max(F.col('spirit_servings')).alias('max_spirit_servings'),\n",
    ").show()"
   ]
  },
  {
   "cell_type": "code",
   "execution_count": null,
   "metadata": {},
   "outputs": [],
   "source": []
  }
 ],
 "metadata": {
  "kernelspec": {
   "display_name": "Python 3",
   "language": "python",
   "name": "python3"
  },
  "language_info": {
   "codemirror_mode": {
    "name": "ipython",
    "version": 3
   },
   "file_extension": ".py",
   "mimetype": "text/x-python",
   "name": "python",
   "nbconvert_exporter": "python",
   "pygments_lexer": "ipython3",
   "version": "3.7.11"
  }
 },
 "nbformat": 4,
 "nbformat_minor": 1
}
