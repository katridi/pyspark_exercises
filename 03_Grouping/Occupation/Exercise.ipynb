{
 "cells": [
  {
   "cell_type": "markdown",
   "metadata": {},
   "source": [
    "# Occupation"
   ]
  },
  {
   "cell_type": "markdown",
   "metadata": {},
   "source": [
    "### Introduction:\n",
    "\n",
    "Special thanks to: https://github.com/justmarkham for sharing the dataset and materials.\n",
    "\n",
    "### Step 1. Import the necessary libraries"
   ]
  },
  {
   "cell_type": "code",
   "execution_count": 1,
   "metadata": {},
   "outputs": [],
   "source": [
    "from pyspark.sql import SparkSession\n",
    "from pyspark.sql import functions as F\n",
    "from pyspark.sql import types as T\n",
    "\n",
    "spark = SparkSession.builder.appName(\"Occupation\").getOrCreate()"
   ]
  },
  {
   "cell_type": "markdown",
   "metadata": {},
   "source": [
    "### Step 2. Import the dataset from this [address](https://raw.githubusercontent.com/justmarkham/DAT8/master/data/u.user). "
   ]
  },
  {
   "cell_type": "markdown",
   "metadata": {},
   "source": [
    "### Step 3. Assign it to a variable called users."
   ]
  },
  {
   "cell_type": "code",
   "execution_count": 2,
   "metadata": {},
   "outputs": [],
   "source": [
    "url = 'https://raw.githubusercontent.com/justmarkham/DAT8/master/data/u.user'\n",
    "from pyspark import SparkFiles\n",
    "spark.sparkContext.addFile(url)\n",
    "\n",
    "users = spark.read.csv(SparkFiles.get(\"u.user\"), sep='|', header=True, inferSchema= True)"
   ]
  },
  {
   "cell_type": "code",
   "execution_count": 3,
   "metadata": {},
   "outputs": [
    {
     "data": {
      "text/plain": [
       "[Row(user_id=1, age=24, gender='M', occupation='technician', zip_code='85711'),\n",
       " Row(user_id=2, age=53, gender='F', occupation='other', zip_code='94043'),\n",
       " Row(user_id=3, age=23, gender='M', occupation='writer', zip_code='32067'),\n",
       " Row(user_id=4, age=24, gender='M', occupation='technician', zip_code='43537'),\n",
       " Row(user_id=5, age=33, gender='F', occupation='other', zip_code='15213')]"
      ]
     },
     "execution_count": 3,
     "metadata": {},
     "output_type": "execute_result"
    }
   ],
   "source": [
    "users.take(5)"
   ]
  },
  {
   "cell_type": "markdown",
   "metadata": {},
   "source": [
    "### Step 4. Discover what is the mean age per occupation"
   ]
  },
  {
   "cell_type": "code",
   "execution_count": 6,
   "metadata": {},
   "outputs": [
    {
     "data": {
      "text/plain": [
       "[Row(occupation='librarian', avg(age)=40.0),\n",
       " Row(occupation='retired', avg(age)=63.07142857142857),\n",
       " Row(occupation='lawyer', avg(age)=36.75),\n",
       " Row(occupation='none', avg(age)=26.555555555555557),\n",
       " Row(occupation='writer', avg(age)=36.31111111111111),\n",
       " Row(occupation='programmer', avg(age)=33.121212121212125),\n",
       " Row(occupation='marketing', avg(age)=37.61538461538461),\n",
       " Row(occupation='other', avg(age)=34.523809523809526),\n",
       " Row(occupation='executive', avg(age)=38.71875),\n",
       " Row(occupation='scientist', avg(age)=35.54838709677419)]"
      ]
     },
     "execution_count": 6,
     "metadata": {},
     "output_type": "execute_result"
    }
   ],
   "source": [
    "users.groupBy(F.col('occupation')).agg({'age': 'mean'}).head(10)"
   ]
  },
  {
   "cell_type": "markdown",
   "metadata": {},
   "source": [
    "### Step 5. Discover the Male ratio per occupation and sort it from the most to the least"
   ]
  },
  {
   "cell_type": "code",
   "execution_count": 30,
   "metadata": {
    "scrolled": false
   },
   "outputs": [],
   "source": [
    "a = users.where(F.col(\"gender\") == \"M\").groupby('occupation').count()\n",
    "b = users.groupby('occupation').count()"
   ]
  },
  {
   "cell_type": "code",
   "execution_count": 60,
   "metadata": {},
   "outputs": [],
   "source": [
    "male_percent = a.join(b, a.occupation == b.occupation).select(\n",
    "    a[\"occupation\"],\n",
    "    a[\"count\"].alias('males'),\n",
    "    b[\"count\"].alias('total'),\n",
    "    (a[\"count\"] / b[\"count\"] * 100).alias('ratio') \n",
    ").orderBy('ratio', ascending=False)"
   ]
  },
  {
   "cell_type": "code",
   "execution_count": 61,
   "metadata": {},
   "outputs": [
    {
     "name": "stdout",
     "output_type": "stream",
     "text": [
      "+-------------+-----+-----+-----------------+\n",
      "|   occupation|males|total|            ratio|\n",
      "+-------------+-----+-----+-----------------+\n",
      "|       doctor|    7|    7|            100.0|\n",
      "|     engineer|   65|   67|97.01492537313433|\n",
      "|   technician|   26|   27|96.29629629629629|\n",
      "|      retired|   13|   14|92.85714285714286|\n",
      "|   programmer|   60|   66| 90.9090909090909|\n",
      "|    executive|   29|   32|           90.625|\n",
      "|    scientist|   28|   31|90.32258064516128|\n",
      "|entertainment|   16|   18|88.88888888888889|\n",
      "|       lawyer|   10|   12|83.33333333333334|\n",
      "|     salesman|    9|   12|             75.0|\n",
      "|     educator|   69|   95|72.63157894736842|\n",
      "|      student|  136|  196|69.38775510204081|\n",
      "|        other|   69|  105|65.71428571428571|\n",
      "|    marketing|   16|   26|61.53846153846154|\n",
      "|       writer|   26|   45|57.77777777777777|\n",
      "|         none|    5|    9|55.55555555555556|\n",
      "|administrator|   43|   79|54.43037974683544|\n",
      "|       artist|   15|   28|53.57142857142857|\n",
      "|    librarian|   22|   51|43.13725490196079|\n",
      "|   healthcare|    5|   16|            31.25|\n",
      "+-------------+-----+-----+-----------------+\n",
      "only showing top 20 rows\n",
      "\n"
     ]
    }
   ],
   "source": [
    "male_percent.show()"
   ]
  },
  {
   "cell_type": "markdown",
   "metadata": {},
   "source": [
    "### Step 6. For each occupation, calculate the minimum and maximum ages"
   ]
  },
  {
   "cell_type": "code",
   "execution_count": 55,
   "metadata": {},
   "outputs": [
    {
     "name": "stdout",
     "output_type": "stream",
     "text": [
      "+----------+-------+-------+\n",
      "|occupation|min_age|max_age|\n",
      "+----------+-------+-------+\n",
      "| librarian|     23|     69|\n",
      "|   retired|     51|     73|\n",
      "|    lawyer|     21|     53|\n",
      "|      none|     11|     55|\n",
      "|    writer|     18|     60|\n",
      "|programmer|     20|     63|\n",
      "| marketing|     24|     55|\n",
      "|     other|     13|     64|\n",
      "| executive|     22|     69|\n",
      "| scientist|     23|     55|\n",
      "+----------+-------+-------+\n",
      "only showing top 10 rows\n",
      "\n"
     ]
    }
   ],
   "source": [
    "users.select('occupation', 'age').groupby('occupation').agg(\n",
    "        F.min(F.col('age')).alias('min_age'),\n",
    "        F.max(F.col('age')).alias('max_age')\n",
    ").show(10)"
   ]
  },
  {
   "cell_type": "markdown",
   "metadata": {},
   "source": [
    "### Step 7. For each combination of occupation and gender, calculate the mean age"
   ]
  },
  {
   "cell_type": "code",
   "execution_count": 57,
   "metadata": {},
   "outputs": [
    {
     "name": "stdout",
     "output_type": "stream",
     "text": [
      "+-------------+------+------------------+\n",
      "|   occupation|gender|          mean_age|\n",
      "+-------------+------+------------------+\n",
      "|administrator|     M| 37.16279069767442|\n",
      "|administrator|     F|40.638888888888886|\n",
      "|       artist|     F|30.307692307692307|\n",
      "|       artist|     M|32.333333333333336|\n",
      "|       doctor|     M| 43.57142857142857|\n",
      "|     educator|     M| 43.10144927536232|\n",
      "|     educator|     F| 39.11538461538461|\n",
      "|     engineer|     F|              29.5|\n",
      "|     engineer|     M|              36.6|\n",
      "|entertainment|     F|              31.0|\n",
      "+-------------+------+------------------+\n",
      "only showing top 10 rows\n",
      "\n"
     ]
    }
   ],
   "source": [
    "users.groupby('occupation', 'gender').agg(\n",
    "        F.mean(F.col('age')).alias('mean_age'),\n",
    ").orderBy('occupation').show(10)"
   ]
  },
  {
   "cell_type": "markdown",
   "metadata": {},
   "source": [
    "### Step 8.  For each occupation present the percentage of women and men"
   ]
  },
  {
   "cell_type": "code",
   "execution_count": 71,
   "metadata": {},
   "outputs": [
    {
     "name": "stdout",
     "output_type": "stream",
     "text": [
      "+-------------+-----------------+------------------+\n",
      "|   occupation|             male|            female|\n",
      "+-------------+-----------------+------------------+\n",
      "|       doctor|            100.0|               0.0|\n",
      "|     engineer|97.01492537313433| 2.985074626865668|\n",
      "|   technician|96.29629629629629|3.7037037037037095|\n",
      "|      retired|92.85714285714286| 7.142857142857139|\n",
      "|   programmer| 90.9090909090909| 9.090909090909093|\n",
      "|    executive|           90.625|             9.375|\n",
      "|    scientist|90.32258064516128| 9.677419354838719|\n",
      "|entertainment|88.88888888888889|11.111111111111114|\n",
      "|       lawyer|83.33333333333334|16.666666666666657|\n",
      "|     salesman|             75.0|              25.0|\n",
      "|     educator|72.63157894736842|27.368421052631575|\n",
      "|      student|69.38775510204081|30.612244897959187|\n",
      "|        other|65.71428571428571| 34.28571428571429|\n",
      "|    marketing|61.53846153846154| 38.46153846153846|\n",
      "|       writer|57.77777777777777| 42.22222222222223|\n",
      "|         none|55.55555555555556| 44.44444444444444|\n",
      "|administrator|54.43037974683544| 45.56962025316456|\n",
      "|       artist|53.57142857142857| 46.42857142857143|\n",
      "|    librarian|43.13725490196079| 56.86274509803921|\n",
      "|   healthcare|            31.25|             68.75|\n",
      "+-------------+-----------------+------------------+\n",
      "only showing top 20 rows\n",
      "\n"
     ]
    }
   ],
   "source": [
    "male_percent.select(\n",
    "    'occupation',\n",
    "    F.col('ratio').alias('male'),\n",
    "    (100 - male_percent[\"ratio\"]).alias('female') \n",
    ").show()"
   ]
  },
  {
   "cell_type": "code",
   "execution_count": null,
   "metadata": {},
   "outputs": [],
   "source": []
  }
 ],
 "metadata": {
  "kernelspec": {
   "display_name": "Python 3",
   "language": "python",
   "name": "python3"
  },
  "language_info": {
   "codemirror_mode": {
    "name": "ipython",
    "version": 3
   },
   "file_extension": ".py",
   "mimetype": "text/x-python",
   "name": "python",
   "nbconvert_exporter": "python",
   "pygments_lexer": "ipython3",
   "version": "3.7.11"
  }
 },
 "nbformat": 4,
 "nbformat_minor": 1
}
