{
 "cells": [
  {
   "cell_type": "markdown",
   "metadata": {},
   "source": [
    "# United States - Crime Rates - 1960 - 2014"
   ]
  },
  {
   "cell_type": "markdown",
   "metadata": {},
   "source": [
    "### Introduction:\n",
    "\n",
    "This time you will create a data \n",
    "\n",
    "Special thanks to: https://github.com/justmarkham for sharing the dataset and materials.\n",
    "\n",
    "### Step 1. Import the necessary libraries"
   ]
  },
  {
   "cell_type": "code",
   "execution_count": 1,
   "metadata": {},
   "outputs": [
    {
     "name": "stderr",
     "output_type": "stream",
     "text": [
      "WARNING:root:'PYARROW_IGNORE_TIMEZONE' environment variable was not set. It is required to set this environment variable to '1' in both driver and executor sides if you use pyarrow>=2.0.0. pandas-on-Spark will set it for you but it does not work if there is a Spark context already launched.\n"
     ]
    }
   ],
   "source": [
    "from pyspark.sql import SparkSession\n",
    "from pyspark.sql import functions as F\n",
    "from pyspark.sql import types as T\n",
    "import pyspark.pandas as ps\n",
    "\n",
    "spark = SparkSession.builder.appName(\"US_Crime_Rates\").getOrCreate()"
   ]
  },
  {
   "cell_type": "markdown",
   "metadata": {},
   "source": [
    "### Step 2. Import the dataset from this [address](https://raw.githubusercontent.com/guipsamora/pandas_exercises/master/04_Apply/US_Crime_Rates/US_Crime_Rates_1960_2014.csv). "
   ]
  },
  {
   "cell_type": "markdown",
   "metadata": {},
   "source": [
    "### Step 3. Assign it to a variable called crime."
   ]
  },
  {
   "cell_type": "code",
   "execution_count": 24,
   "metadata": {},
   "outputs": [],
   "source": [
    "url = \"https://raw.githubusercontent.com/guipsamora/pandas_exercises/master/04_Apply/US_Crime_Rates/US_Crime_Rates_1960_2014.csv\"\n",
    "from pyspark import SparkFiles\n",
    "spark.sparkContext.addFile(url)\n",
    "\n",
    "crime = spark.read.csv(SparkFiles.get(\"US_Crime_Rates_1960_2014.csv\"),header=True, inferSchema= True)"
   ]
  },
  {
   "cell_type": "markdown",
   "metadata": {},
   "source": [
    "### Step 4. What is the type of the columns?"
   ]
  },
  {
   "cell_type": "code",
   "execution_count": 25,
   "metadata": {},
   "outputs": [
    {
     "name": "stdout",
     "output_type": "stream",
     "text": [
      "root\n",
      " |-- Year: integer (nullable = true)\n",
      " |-- Population: integer (nullable = true)\n",
      " |-- Total: integer (nullable = true)\n",
      " |-- Violent: integer (nullable = true)\n",
      " |-- Property: integer (nullable = true)\n",
      " |-- Murder: integer (nullable = true)\n",
      " |-- Forcible_Rape: integer (nullable = true)\n",
      " |-- Robbery: integer (nullable = true)\n",
      " |-- Aggravated_assault: integer (nullable = true)\n",
      " |-- Burglary: integer (nullable = true)\n",
      " |-- Larceny_Theft: integer (nullable = true)\n",
      " |-- Vehicle_Theft: integer (nullable = true)\n",
      "\n"
     ]
    }
   ],
   "source": [
    "crime.printSchema()"
   ]
  },
  {
   "cell_type": "markdown",
   "metadata": {},
   "source": [
    "##### Have you noticed that the type of Year is int64. But pandas has a different type to work with Time Series. Let's see it now.\n",
    "\n",
    "### Step 5. Convert the type of the column Year to datetime64"
   ]
  },
  {
   "cell_type": "code",
   "execution_count": 26,
   "metadata": {},
   "outputs": [],
   "source": [
    "to_fake_date = F.udf(lambda x: f'{x}-01-01')"
   ]
  },
  {
   "cell_type": "code",
   "execution_count": 27,
   "metadata": {},
   "outputs": [],
   "source": [
    "crime = crime.withColumn('Year', F.to_date(to_fake_date(F.col('Year'))))"
   ]
  },
  {
   "cell_type": "code",
   "execution_count": 28,
   "metadata": {},
   "outputs": [
    {
     "name": "stdout",
     "output_type": "stream",
     "text": [
      "root\n",
      " |-- Year: date (nullable = true)\n",
      " |-- Population: integer (nullable = true)\n",
      " |-- Total: integer (nullable = true)\n",
      " |-- Violent: integer (nullable = true)\n",
      " |-- Property: integer (nullable = true)\n",
      " |-- Murder: integer (nullable = true)\n",
      " |-- Forcible_Rape: integer (nullable = true)\n",
      " |-- Robbery: integer (nullable = true)\n",
      " |-- Aggravated_assault: integer (nullable = true)\n",
      " |-- Burglary: integer (nullable = true)\n",
      " |-- Larceny_Theft: integer (nullable = true)\n",
      " |-- Vehicle_Theft: integer (nullable = true)\n",
      "\n"
     ]
    }
   ],
   "source": [
    "# still integer\n",
    "crime.printSchema()"
   ]
  },
  {
   "cell_type": "markdown",
   "metadata": {},
   "source": [
    "### Step 6. Set the Year column as the index of the dataframe"
   ]
  },
  {
   "cell_type": "code",
   "execution_count": 21,
   "metadata": {},
   "outputs": [],
   "source": [
    "# not applicable"
   ]
  },
  {
   "cell_type": "markdown",
   "metadata": {},
   "source": [
    "### Step 7. Delete the Total column"
   ]
  },
  {
   "cell_type": "code",
   "execution_count": 29,
   "metadata": {},
   "outputs": [],
   "source": [
    "crime = crime.drop('Total')"
   ]
  },
  {
   "cell_type": "markdown",
   "metadata": {},
   "source": [
    "### Step 8. Group the year by decades and sum the values\n",
    "\n",
    "#### Pay attention to the Population column number, summing this column is a mistake"
   ]
  },
  {
   "cell_type": "code",
   "execution_count": 78,
   "metadata": {},
   "outputs": [],
   "source": [
    "to_decade = F.udf(lambda x: x // 10, T.IntegerType())"
   ]
  },
  {
   "cell_type": "code",
   "execution_count": 79,
   "metadata": {
    "scrolled": false
   },
   "outputs": [],
   "source": [
    "crime = crime.withColumn('10Year', to_decade(F.year(F.col('Year'))))"
   ]
  },
  {
   "cell_type": "code",
   "execution_count": 99,
   "metadata": {
    "scrolled": false
   },
   "outputs": [],
   "source": [
    "decade_crimes = crime.groupBy('10Year').agg(\n",
    "    F.min(F.year(F.col('Year'))).alias('decade'),\n",
    "    F.max(F.col('Population')).alias('Population'),\n",
    "    F.sum(F.col('Violent')).alias('Violent'),\n",
    "    F.sum(F.col('Property')).alias('Property'),\n",
    "    F.sum(F.col('Murder')).alias('Murder'),\n",
    "    F.sum(F.col('Forcible_Rape')).alias('Forcible_Rape'),\n",
    "    F.sum(F.col('Robbery')).alias('Robbery'),\n",
    "    F.sum(F.col('Aggravated_assault')).alias('Aggravated_assault'),\n",
    "    F.sum(F.col('Burglary')).alias('Burglary'),\n",
    "    F.sum(F.col('Larceny_Theft')).alias('Larceny_Theft'),\n",
    "    F.sum(F.col('Vehicle_Theft')).alias('Vehicle_Theft'),\n",
    ").orderBy('decade').drop('10Year')\n"
   ]
  },
  {
   "cell_type": "code",
   "execution_count": 100,
   "metadata": {},
   "outputs": [
    {
     "name": "stdout",
     "output_type": "stream",
     "text": [
      "+------+----------+--------+---------+------+-------------+-------+------------------+--------+-------------+-------------+\n",
      "|decade|Population| Violent| Property|Murder|Forcible_Rape|Robbery|Aggravated_assault|Burglary|Larceny_Theft|Vehicle_Theft|\n",
      "+------+----------+--------+---------+------+-------------+-------+------------------+--------+-------------+-------------+\n",
      "|  1960| 201385000| 4134930| 45160900|106180|       236720|1633510|           2158520|13321100|     26547700|      5292100|\n",
      "|  1970| 220099000| 9607930| 91383800|192230|       554570|4159020|           4702120|28486000|     53157800|      9739900|\n",
      "|  1980| 248239000|14074328|117048900|206439|       865639|5383109|           7619130|33073494|     72040253|     11935411|\n",
      "|  1990| 272690813|17527048|119053499|211664|       998827|5748930|          10568963|26750015|     77679366|     14624418|\n",
      "|  2000| 307006550|13968056|100944369|163068|       922499|4230366|           8652124|21565176|     67970291|     11412834|\n",
      "|  2010| 318857056| 6072017| 44095950| 72867|       421059|1749809|           3764142|10125170|     30401698|      3569080|\n",
      "+------+----------+--------+---------+------+-------------+-------+------------------+--------+-------------+-------------+\n",
      "\n"
     ]
    }
   ],
   "source": [
    "decade_crimes.show()"
   ]
  },
  {
   "cell_type": "markdown",
   "metadata": {},
   "source": [
    "### Step 9. What is the most dangerous decade to live in the US?"
   ]
  },
  {
   "cell_type": "code",
   "execution_count": 101,
   "metadata": {},
   "outputs": [],
   "source": [
    "# not applicable"
   ]
  },
  {
   "cell_type": "code",
   "execution_count": null,
   "metadata": {},
   "outputs": [],
   "source": []
  }
 ],
 "metadata": {
  "anaconda-cloud": {},
  "kernelspec": {
   "display_name": "Python 3",
   "language": "python",
   "name": "python3"
  },
  "language_info": {
   "codemirror_mode": {
    "name": "ipython",
    "version": 3
   },
   "file_extension": ".py",
   "mimetype": "text/x-python",
   "name": "python",
   "nbconvert_exporter": "python",
   "pygments_lexer": "ipython3",
   "version": "3.7.11"
  }
 },
 "nbformat": 4,
 "nbformat_minor": 1
}
