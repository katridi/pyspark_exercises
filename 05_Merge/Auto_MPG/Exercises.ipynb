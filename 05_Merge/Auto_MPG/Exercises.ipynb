{
 "cells": [
  {
   "cell_type": "markdown",
   "metadata": {},
   "source": [
    "# MPG Cars"
   ]
  },
  {
   "cell_type": "markdown",
   "metadata": {},
   "source": [
    "### Introduction:\n",
    "\n",
    "The following exercise utilizes data from [UC Irvine Machine Learning Repository](https://archive.ics.uci.edu/ml/datasets/Auto+MPG)\n",
    "\n",
    "### Step 1. Import the necessary libraries"
   ]
  },
  {
   "cell_type": "code",
   "execution_count": 1,
   "metadata": {},
   "outputs": [],
   "source": [
    "from pyspark.sql import SparkSession\n",
    "from pyspark.sql import functions as F\n",
    "from pyspark.sql import types as T\n",
    "\n",
    "spark = SparkSession.builder.appName(\"Auto_MPG\").getOrCreate()"
   ]
  },
  {
   "cell_type": "markdown",
   "metadata": {},
   "source": [
    "### Step 2. Import the first dataset [cars1](https://raw.githubusercontent.com/guipsamora/pandas_exercises/master/05_Merge/Auto_MPG/cars1.csv) and [cars2](https://raw.githubusercontent.com/guipsamora/pandas_exercises/master/05_Merge/Auto_MPG/cars2.csv).  "
   ]
  },
  {
   "cell_type": "markdown",
   "metadata": {},
   "source": [
    "   ### Step 3. Assign each to a variable called cars1 and cars2"
   ]
  },
  {
   "cell_type": "code",
   "execution_count": 3,
   "metadata": {},
   "outputs": [],
   "source": [
    "url1 = \"https://raw.githubusercontent.com/guipsamora/pandas_exercises/master/05_Merge/Auto_MPG/cars1.csv\"\n",
    "url2 = \"https://raw.githubusercontent.com/guipsamora/pandas_exercises/master/05_Merge/Auto_MPG/cars2.csv\"\n",
    "\n",
    "from pyspark import SparkFiles\n",
    "spark.sparkContext.addFile(url1)\n",
    "spark.sparkContext.addFile(url2)\n",
    "\n",
    "\n",
    "cars1 = spark.read.csv(SparkFiles.get(\"cars1.csv\"),header=True, inferSchema= True)\n",
    "cars2 = spark.read.csv(SparkFiles.get(\"cars2.csv\"),header=True, inferSchema= True)\n"
   ]
  },
  {
   "cell_type": "markdown",
   "metadata": {},
   "source": [
    "### Step 4. Oops, it seems our first dataset has some unnamed blank columns, fix cars1"
   ]
  },
  {
   "cell_type": "code",
   "execution_count": 4,
   "metadata": {},
   "outputs": [
    {
     "data": {
      "text/plain": [
       "<bound method DataFrame.printSchema of DataFrame[mpg: double, cylinders: int, displacement: int, horsepower: string, weight: int, acceleration: double, model: int, origin: int, car: string, _c9: string, _c10: string, _c11: string, _c12: string, _c13: string]>"
      ]
     },
     "execution_count": 4,
     "metadata": {},
     "output_type": "execute_result"
    }
   ],
   "source": [
    "cars1.printSchema"
   ]
  },
  {
   "cell_type": "code",
   "execution_count": 8,
   "metadata": {},
   "outputs": [],
   "source": [
    "cars1 = cars1[cars1.columns[:cars1.columns.index('car') + 1]]"
   ]
  },
  {
   "cell_type": "code",
   "execution_count": 10,
   "metadata": {},
   "outputs": [
    {
     "data": {
      "text/plain": [
       "[Row(mpg=18.0, cylinders=8, displacement=307, horsepower='130', weight=3504, acceleration=12.0, model=70, origin=1, car='chevrolet chevelle malibu'),\n",
       " Row(mpg=15.0, cylinders=8, displacement=350, horsepower='165', weight=3693, acceleration=11.5, model=70, origin=1, car='buick skylark 320'),\n",
       " Row(mpg=18.0, cylinders=8, displacement=318, horsepower='150', weight=3436, acceleration=11.0, model=70, origin=1, car='plymouth satellite'),\n",
       " Row(mpg=16.0, cylinders=8, displacement=304, horsepower='150', weight=3433, acceleration=12.0, model=70, origin=1, car='amc rebel sst'),\n",
       " Row(mpg=17.0, cylinders=8, displacement=302, horsepower='140', weight=3449, acceleration=10.5, model=70, origin=1, car='ford torino')]"
      ]
     },
     "execution_count": 10,
     "metadata": {},
     "output_type": "execute_result"
    }
   ],
   "source": [
    "cars1.head(5)"
   ]
  },
  {
   "cell_type": "markdown",
   "metadata": {},
   "source": [
    "### Step 5. What is the number of observations in each dataset?"
   ]
  },
  {
   "cell_type": "code",
   "execution_count": 11,
   "metadata": {},
   "outputs": [
    {
     "data": {
      "text/plain": [
       "198"
      ]
     },
     "execution_count": 11,
     "metadata": {},
     "output_type": "execute_result"
    }
   ],
   "source": [
    "cars1.count()"
   ]
  },
  {
   "cell_type": "code",
   "execution_count": 12,
   "metadata": {},
   "outputs": [
    {
     "data": {
      "text/plain": [
       "200"
      ]
     },
     "execution_count": 12,
     "metadata": {},
     "output_type": "execute_result"
    }
   ],
   "source": [
    "cars2.count()"
   ]
  },
  {
   "cell_type": "markdown",
   "metadata": {},
   "source": [
    "### Step 6. Join cars1 and cars2 into a single DataFrame called cars"
   ]
  },
  {
   "cell_type": "code",
   "execution_count": 14,
   "metadata": {},
   "outputs": [],
   "source": [
    "cars = cars1.union(cars2)"
   ]
  },
  {
   "cell_type": "code",
   "execution_count": 15,
   "metadata": {},
   "outputs": [
    {
     "data": {
      "text/plain": [
       "398"
      ]
     },
     "execution_count": 15,
     "metadata": {},
     "output_type": "execute_result"
    }
   ],
   "source": [
    "cars.count()"
   ]
  },
  {
   "cell_type": "markdown",
   "metadata": {},
   "source": [
    "### Step 7. Oops, there is a column missing, called owners. Create a random number Series from 15,000 to 73,000."
   ]
  },
  {
   "cell_type": "code",
   "execution_count": 20,
   "metadata": {
    "scrolled": true
   },
   "outputs": [
    {
     "data": {
      "text/plain": [
       "<bound method DataFrame.printSchema of DataFrame[mpg: double, cylinders: int, displacement: int, horsepower: string, weight: int, acceleration: double, model: int, origin: int, car: string]>"
      ]
     },
     "execution_count": 20,
     "metadata": {},
     "output_type": "execute_result"
    }
   ],
   "source": [
    "cars1.printSchema"
   ]
  },
  {
   "cell_type": "code",
   "execution_count": 88,
   "metadata": {},
   "outputs": [],
   "source": [
    "import random\n",
    "spark_n = F.udf(lambda: random.randint(15000, 73001), T.IntegerType())"
   ]
  },
  {
   "cell_type": "markdown",
   "metadata": {},
   "source": [
    "### Step 8. Add the column owners to cars"
   ]
  },
  {
   "cell_type": "code",
   "execution_count": 89,
   "metadata": {
    "scrolled": false
   },
   "outputs": [],
   "source": [
    "cars = cars.withColumn('owners', spark_n())"
   ]
  },
  {
   "cell_type": "code",
   "execution_count": 90,
   "metadata": {},
   "outputs": [
    {
     "data": {
      "text/plain": [
       "[Row(mpg=18.0, cylinders=8, displacement=307, horsepower='130', weight=3504, acceleration=12.0, model=70, origin=1, car='chevrolet chevelle malibu', owners=66265),\n",
       " Row(mpg=15.0, cylinders=8, displacement=350, horsepower='165', weight=3693, acceleration=11.5, model=70, origin=1, car='buick skylark 320', owners=60175),\n",
       " Row(mpg=18.0, cylinders=8, displacement=318, horsepower='150', weight=3436, acceleration=11.0, model=70, origin=1, car='plymouth satellite', owners=16667),\n",
       " Row(mpg=16.0, cylinders=8, displacement=304, horsepower='150', weight=3433, acceleration=12.0, model=70, origin=1, car='amc rebel sst', owners=20570),\n",
       " Row(mpg=17.0, cylinders=8, displacement=302, horsepower='140', weight=3449, acceleration=10.5, model=70, origin=1, car='ford torino', owners=59560)]"
      ]
     },
     "execution_count": 90,
     "metadata": {},
     "output_type": "execute_result"
    }
   ],
   "source": [
    "cars.head(5)"
   ]
  },
  {
   "cell_type": "code",
   "execution_count": null,
   "metadata": {},
   "outputs": [],
   "source": []
  }
 ],
 "metadata": {
  "anaconda-cloud": {},
  "kernelspec": {
   "display_name": "Python 3",
   "language": "python",
   "name": "python3"
  },
  "language_info": {
   "codemirror_mode": {
    "name": "ipython",
    "version": 3
   },
   "file_extension": ".py",
   "mimetype": "text/x-python",
   "name": "python",
   "nbconvert_exporter": "python",
   "pygments_lexer": "ipython3",
   "version": "3.7.11"
  }
 },
 "nbformat": 4,
 "nbformat_minor": 1
}
