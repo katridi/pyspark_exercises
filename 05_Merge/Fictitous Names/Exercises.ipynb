{
 "cells": [
  {
   "cell_type": "markdown",
   "metadata": {},
   "source": [
    "# Fictitious Names"
   ]
  },
  {
   "cell_type": "markdown",
   "metadata": {},
   "source": [
    "### Introduction:\n",
    "\n",
    "This time you will create a data again \n",
    "\n",
    "Special thanks to [Chris Albon](http://chrisalbon.com/) for sharing the dataset and materials.\n",
    "All the credits to this exercise belongs to him.  \n",
    "\n",
    "In order to understand about it go [here](https://blog.codinghorror.com/a-visual-explanation-of-sql-joins/).\n",
    "\n",
    "### Step 1. Import the necessary libraries"
   ]
  },
  {
   "cell_type": "code",
   "execution_count": 67,
   "metadata": {},
   "outputs": [],
   "source": [
    "from pyspark.sql import SparkSession\n",
    "from pyspark.sql import functions as F\n",
    "from pyspark.sql import types as T\n",
    "import pandas as pd\n",
    "\n",
    "spark = SparkSession.builder.appName(\"Fictitous_names\").getOrCreate()"
   ]
  },
  {
   "cell_type": "markdown",
   "metadata": {},
   "source": [
    "### Step 2. Create the 3 DataFrames based on the following raw data"
   ]
  },
  {
   "cell_type": "code",
   "execution_count": 68,
   "metadata": {},
   "outputs": [],
   "source": [
    "raw_data_1 = {\n",
    "        'subject_id': ['1', '2', '3', '4', '5'],\n",
    "        'first_name': ['Alex', 'Amy', 'Allen', 'Alice', 'Ayoung'], \n",
    "        'last_name': ['Anderson', 'Ackerman', 'Ali', 'Aoni', 'Atiches']}\n",
    "\n",
    "raw_data_2 = {\n",
    "        'subject_id': ['4', '5', '6', '7', '8'],\n",
    "        'first_name': ['Billy', 'Brian', 'Bran', 'Bryce', 'Betty'], \n",
    "        'last_name': ['Bonder', 'Black', 'Balwner', 'Brice', 'Btisan']}\n",
    "\n",
    "raw_data_3 = {\n",
    "        'subject_id': ['1', '2', '3', '4', '5', '7', '8', '9', '10', '11'],\n",
    "        'test_id': [51, 15, 15, 61, 16, 14, 15, 1, 61, 16]}"
   ]
  },
  {
   "cell_type": "markdown",
   "metadata": {},
   "source": [
    "### Step 3. Assign each to a variable called data1, data2, data3"
   ]
  },
  {
   "cell_type": "code",
   "execution_count": 69,
   "metadata": {},
   "outputs": [],
   "source": [
    "data1 = spark.createDataFrame(pd.DataFrame(raw_data_1, columns = ['subject_id', 'first_name', 'last_name']))\n",
    "data2 = spark.createDataFrame(pd.DataFrame(raw_data_2, columns = ['subject_id', 'first_name', 'last_name']))\n",
    "data3 = spark.createDataFrame(pd.DataFrame(raw_data_3, columns = ['subject_id','test_id']))"
   ]
  },
  {
   "cell_type": "code",
   "execution_count": 70,
   "metadata": {},
   "outputs": [
    {
     "name": "stdout",
     "output_type": "stream",
     "text": [
      "+----------+-------+\n",
      "|subject_id|test_id|\n",
      "+----------+-------+\n",
      "|         1|     51|\n",
      "|         2|     15|\n",
      "|         3|     15|\n",
      "|         4|     61|\n",
      "|         5|     16|\n",
      "|         7|     14|\n",
      "|         8|     15|\n",
      "|         9|      1|\n",
      "|        10|     61|\n",
      "|        11|     16|\n",
      "+----------+-------+\n",
      "\n"
     ]
    }
   ],
   "source": [
    "data3.show()"
   ]
  },
  {
   "cell_type": "markdown",
   "metadata": {},
   "source": [
    "### Step 4. Join the two dataframes along rows and assign all_data"
   ]
  },
  {
   "cell_type": "code",
   "execution_count": 71,
   "metadata": {},
   "outputs": [],
   "source": [
    "all_data = data1.union(data2)"
   ]
  },
  {
   "cell_type": "code",
   "execution_count": 72,
   "metadata": {},
   "outputs": [
    {
     "name": "stdout",
     "output_type": "stream",
     "text": [
      "+----------+----------+---------+\n",
      "|subject_id|first_name|last_name|\n",
      "+----------+----------+---------+\n",
      "|         1|      Alex| Anderson|\n",
      "|         2|       Amy| Ackerman|\n",
      "|         3|     Allen|      Ali|\n",
      "|         4|     Alice|     Aoni|\n",
      "|         5|    Ayoung|  Atiches|\n",
      "|         4|     Billy|   Bonder|\n",
      "|         5|     Brian|    Black|\n",
      "|         6|      Bran|  Balwner|\n",
      "|         7|     Bryce|    Brice|\n",
      "|         8|     Betty|   Btisan|\n",
      "+----------+----------+---------+\n",
      "\n"
     ]
    }
   ],
   "source": [
    "all_data.show()"
   ]
  },
  {
   "cell_type": "markdown",
   "metadata": {},
   "source": [
    "### Step 5. Join the two dataframes along columns and assing to all_data_col"
   ]
  },
  {
   "cell_type": "code",
   "execution_count": 73,
   "metadata": {},
   "outputs": [],
   "source": [
    "all_data_col = data1.join(data2, data1.subject_id == data2.subject_id, how='outer')"
   ]
  },
  {
   "cell_type": "code",
   "execution_count": 74,
   "metadata": {},
   "outputs": [
    {
     "name": "stdout",
     "output_type": "stream",
     "text": [
      "+----------+----------+---------+----------+----------+---------+\n",
      "|subject_id|first_name|last_name|subject_id|first_name|last_name|\n",
      "+----------+----------+---------+----------+----------+---------+\n",
      "|         1|      Alex| Anderson|      null|      null|     null|\n",
      "|         2|       Amy| Ackerman|      null|      null|     null|\n",
      "|         3|     Allen|      Ali|      null|      null|     null|\n",
      "|         4|     Alice|     Aoni|         4|     Billy|   Bonder|\n",
      "|         5|    Ayoung|  Atiches|         5|     Brian|    Black|\n",
      "|      null|      null|     null|         6|      Bran|  Balwner|\n",
      "|      null|      null|     null|         7|     Bryce|    Brice|\n",
      "|      null|      null|     null|         8|     Betty|   Btisan|\n",
      "+----------+----------+---------+----------+----------+---------+\n",
      "\n"
     ]
    }
   ],
   "source": [
    "all_data_col.show()"
   ]
  },
  {
   "cell_type": "markdown",
   "metadata": {},
   "source": [
    "### Step 6. Print data3"
   ]
  },
  {
   "cell_type": "code",
   "execution_count": 75,
   "metadata": {},
   "outputs": [
    {
     "name": "stdout",
     "output_type": "stream",
     "text": [
      "+----------+-------+\n",
      "|subject_id|test_id|\n",
      "+----------+-------+\n",
      "|         1|     51|\n",
      "|         2|     15|\n",
      "|         3|     15|\n",
      "|         4|     61|\n",
      "|         5|     16|\n",
      "|         7|     14|\n",
      "|         8|     15|\n",
      "|         9|      1|\n",
      "|        10|     61|\n",
      "|        11|     16|\n",
      "+----------+-------+\n",
      "\n"
     ]
    }
   ],
   "source": [
    "data3.show()"
   ]
  },
  {
   "cell_type": "markdown",
   "metadata": {},
   "source": [
    "### Step 7. Merge all_data and data3 along the subject_id value"
   ]
  },
  {
   "cell_type": "code",
   "execution_count": 76,
   "metadata": {},
   "outputs": [
    {
     "name": "stdout",
     "output_type": "stream",
     "text": [
      "+----------+----------+---------+-------+\n",
      "|subject_id|first_name|last_name|test_id|\n",
      "+----------+----------+---------+-------+\n",
      "|         1|      Alex| Anderson|     51|\n",
      "|         2|       Amy| Ackerman|     15|\n",
      "|         3|     Allen|      Ali|     15|\n",
      "|         4|     Alice|     Aoni|     61|\n",
      "|         4|     Billy|   Bonder|     61|\n",
      "|         5|    Ayoung|  Atiches|     16|\n",
      "|         5|     Brian|    Black|     16|\n",
      "|         7|     Bryce|    Brice|     14|\n",
      "|         8|     Betty|   Btisan|     15|\n",
      "+----------+----------+---------+-------+\n",
      "\n"
     ]
    }
   ],
   "source": [
    "all_data.join(data3, all_data.subject_id == data3.subject_id, how='inner').drop(data3.subject_id).show()"
   ]
  },
  {
   "cell_type": "markdown",
   "metadata": {},
   "source": [
    "### Step 8. Merge only the data that has the same 'subject_id' on both data1 and data2"
   ]
  },
  {
   "cell_type": "code",
   "execution_count": 77,
   "metadata": {},
   "outputs": [
    {
     "name": "stdout",
     "output_type": "stream",
     "text": [
      "+----------+----------+---------+----------+----------+---------+\n",
      "|subject_id|first_name|last_name|subject_id|first_name|last_name|\n",
      "+----------+----------+---------+----------+----------+---------+\n",
      "|         4|     Alice|     Aoni|         4|     Billy|   Bonder|\n",
      "|         5|    Ayoung|  Atiches|         5|     Brian|    Black|\n",
      "+----------+----------+---------+----------+----------+---------+\n",
      "\n"
     ]
    }
   ],
   "source": [
    "data1.join(data2, data1.subject_id == data2.subject_id).show()"
   ]
  },
  {
   "cell_type": "markdown",
   "metadata": {},
   "source": [
    "### Step 9. Merge all values in data1 and data2, with matching records from both sides where available."
   ]
  },
  {
   "cell_type": "code",
   "execution_count": 78,
   "metadata": {},
   "outputs": [
    {
     "name": "stdout",
     "output_type": "stream",
     "text": [
      "+----------+----------+---------+----------+----------+---------+\n",
      "|subject_id|first_name|last_name|subject_id|first_name|last_name|\n",
      "+----------+----------+---------+----------+----------+---------+\n",
      "|         1|      Alex| Anderson|      null|      null|     null|\n",
      "|         2|       Amy| Ackerman|      null|      null|     null|\n",
      "|         3|     Allen|      Ali|      null|      null|     null|\n",
      "|         4|     Alice|     Aoni|         4|     Billy|   Bonder|\n",
      "|         5|    Ayoung|  Atiches|         5|     Brian|    Black|\n",
      "|      null|      null|     null|         6|      Bran|  Balwner|\n",
      "|      null|      null|     null|         7|     Bryce|    Brice|\n",
      "|      null|      null|     null|         8|     Betty|   Btisan|\n",
      "+----------+----------+---------+----------+----------+---------+\n",
      "\n"
     ]
    }
   ],
   "source": [
    "data1.join(data2, data1.subject_id == data2.subject_id, how='outer').show()"
   ]
  },
  {
   "cell_type": "code",
   "execution_count": null,
   "metadata": {},
   "outputs": [],
   "source": []
  }
 ],
 "metadata": {
  "kernelspec": {
   "display_name": "Python 3",
   "language": "python",
   "name": "python3"
  },
  "language_info": {
   "codemirror_mode": {
    "name": "ipython",
    "version": 3
   },
   "file_extension": ".py",
   "mimetype": "text/x-python",
   "name": "python",
   "nbconvert_exporter": "python",
   "pygments_lexer": "ipython3",
   "version": "3.7.11"
  }
 },
 "nbformat": 4,
 "nbformat_minor": 1
}
