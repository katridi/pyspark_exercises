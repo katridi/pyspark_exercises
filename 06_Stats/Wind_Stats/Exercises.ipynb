{
 "cells": [
  {
   "cell_type": "markdown",
   "metadata": {},
   "source": [
    "# Wind Statistics"
   ]
  },
  {
   "cell_type": "markdown",
   "metadata": {},
   "source": [
    "### Introduction:\n",
    "\n",
    "The data have been modified to contain some missing values, identified by NaN.  \n",
    "Using pandas should make this exercise\n",
    "easier, in particular for the bonus question.\n",
    "\n",
    "You should be able to perform all of these operations without using\n",
    "a for loop or other looping construct.\n",
    "\n",
    "\n",
    "1. The data in 'wind.data' has the following format:"
   ]
  },
  {
   "cell_type": "code",
   "execution_count": 434,
   "metadata": {},
   "outputs": [
    {
     "data": {
      "text/plain": [
       "'\\nYr Mo Dy   RPT   VAL   ROS   KIL   SHA   BIR   DUB   CLA   MUL   CLO   BEL   MAL\\n61  1  1 15.04 14.96 13.17  9.29   NaN  9.87 13.67 10.25 10.83 12.58 18.50 15.04\\n61  1  2 14.71   NaN 10.83  6.50 12.62  7.67 11.50 10.04  9.79  9.67 17.54 13.83\\n61  1  3 18.50 16.88 12.33 10.13 11.17  6.17 11.25   NaN  8.50  7.67 12.75 12.71\\n'"
      ]
     },
     "execution_count": 434,
     "metadata": {},
     "output_type": "execute_result"
    }
   ],
   "source": [
    "\"\"\"\n",
    "Yr Mo Dy   RPT   VAL   ROS   KIL   SHA   BIR   DUB   CLA   MUL   CLO   BEL   MAL\n",
    "61  1  1 15.04 14.96 13.17  9.29   NaN  9.87 13.67 10.25 10.83 12.58 18.50 15.04\n",
    "61  1  2 14.71   NaN 10.83  6.50 12.62  7.67 11.50 10.04  9.79  9.67 17.54 13.83\n",
    "61  1  3 18.50 16.88 12.33 10.13 11.17  6.17 11.25   NaN  8.50  7.67 12.75 12.71\n",
    "\"\"\""
   ]
  },
  {
   "cell_type": "markdown",
   "metadata": {},
   "source": [
    "   The first three columns are year, month and day.  The\n",
    "   remaining 12 columns are average windspeeds in knots at 12\n",
    "   locations in Ireland on that day.   \n",
    "\n",
    "   More information about the dataset go [here](wind.desc)."
   ]
  },
  {
   "cell_type": "markdown",
   "metadata": {},
   "source": [
    "### Step 1. Import the necessary libraries"
   ]
  },
  {
   "cell_type": "code",
   "execution_count": 18,
   "metadata": {},
   "outputs": [],
   "source": [
    "from pyspark.sql import SparkSession\n",
    "from pyspark.sql import functions as F\n",
    "from pyspark.sql import types as T\n",
    "from pyspark.sql import Window\n",
    "import datetime\n",
    "\n",
    "spark = SparkSession.builder.appName(\"Wind_Stats\").getOrCreate()"
   ]
  },
  {
   "cell_type": "markdown",
   "metadata": {},
   "source": [
    "### Step 2. Import the dataset from this [address](https://raw.githubusercontent.com/guipsamora/pandas_exercises/master/06_Stats/Wind_Stats/wind.data)"
   ]
  },
  {
   "cell_type": "markdown",
   "metadata": {},
   "source": [
    "### Step 3. Assign it to a variable called data and replace the first 3 columns by a proper datetime index."
   ]
  },
  {
   "cell_type": "code",
   "execution_count": 57,
   "metadata": {},
   "outputs": [],
   "source": [
    "data_url = 'https://raw.githubusercontent.com/guipsamora/pandas_exercises/master/06_Stats/Wind_Stats/wind.data'\n",
    "\n",
    "import pandas as pd\n",
    "\n",
    "data = pd.read_csv(data_url, sep = \"\\s+\", parse_dates = [[0,1,2]]) \n",
    "\n",
    "data = spark.createDataFrame(data)\n"
   ]
  },
  {
   "cell_type": "code",
   "execution_count": 58,
   "metadata": {
    "scrolled": true
   },
   "outputs": [
    {
     "name": "stdout",
     "output_type": "stream",
     "text": [
      "root\n",
      " |-- Yr_Mo_Dy: timestamp (nullable = true)\n",
      " |-- RPT: double (nullable = true)\n",
      " |-- VAL: double (nullable = true)\n",
      " |-- ROS: double (nullable = true)\n",
      " |-- KIL: double (nullable = true)\n",
      " |-- SHA: double (nullable = true)\n",
      " |-- BIR: double (nullable = true)\n",
      " |-- DUB: double (nullable = true)\n",
      " |-- CLA: double (nullable = true)\n",
      " |-- MUL: double (nullable = true)\n",
      " |-- CLO: double (nullable = true)\n",
      " |-- BEL: double (nullable = true)\n",
      " |-- MAL: double (nullable = true)\n",
      "\n"
     ]
    }
   ],
   "source": [
    "data.printSchema()"
   ]
  },
  {
   "cell_type": "code",
   "execution_count": 59,
   "metadata": {},
   "outputs": [
    {
     "data": {
      "text/plain": [
       "[Row(Yr_Mo_Dy=datetime.datetime(2061, 1, 1, 0, 0), RPT=15.04, VAL=14.96, ROS=13.17, KIL=9.29, SHA=nan, BIR=9.87, DUB=13.67, CLA=10.25, MUL=10.83, CLO=12.58, BEL=18.5, MAL=15.04),\n",
       " Row(Yr_Mo_Dy=datetime.datetime(2061, 1, 2, 0, 0), RPT=14.71, VAL=nan, ROS=10.83, KIL=6.5, SHA=12.62, BIR=7.67, DUB=11.5, CLA=10.04, MUL=9.79, CLO=9.67, BEL=17.54, MAL=13.83),\n",
       " Row(Yr_Mo_Dy=datetime.datetime(2061, 1, 3, 0, 0), RPT=18.5, VAL=16.88, ROS=12.33, KIL=10.13, SHA=11.17, BIR=6.17, DUB=11.25, CLA=nan, MUL=8.5, CLO=7.67, BEL=12.75, MAL=12.71),\n",
       " Row(Yr_Mo_Dy=datetime.datetime(2061, 1, 4, 0, 0), RPT=10.58, VAL=6.63, ROS=11.75, KIL=4.58, SHA=4.54, BIR=2.88, DUB=8.63, CLA=1.79, MUL=5.83, CLO=5.88, BEL=5.46, MAL=10.88),\n",
       " Row(Yr_Mo_Dy=datetime.datetime(2061, 1, 5, 0, 0), RPT=13.33, VAL=13.25, ROS=11.42, KIL=6.17, SHA=10.71, BIR=8.21, DUB=11.92, CLA=6.54, MUL=10.92, CLO=10.34, BEL=12.92, MAL=11.83)]"
      ]
     },
     "execution_count": 59,
     "metadata": {},
     "output_type": "execute_result"
    }
   ],
   "source": [
    "data.head(5)"
   ]
  },
  {
   "cell_type": "markdown",
   "metadata": {},
   "source": [
    "### Step 4. Year 2061? Do we really have data from this year? Create a function to fix it and apply it."
   ]
  },
  {
   "cell_type": "code",
   "execution_count": 60,
   "metadata": {},
   "outputs": [],
   "source": [
    "def right_century(x):\n",
    "    return datetime.datetime(x.year - 100, x.month, x.day) if x.year > 1989 else x\n",
    "        "
   ]
  },
  {
   "cell_type": "code",
   "execution_count": 61,
   "metadata": {},
   "outputs": [],
   "source": [
    "fix_centuty = F.udf(lambda x: right_century(x), T.DateType())"
   ]
  },
  {
   "cell_type": "code",
   "execution_count": 62,
   "metadata": {},
   "outputs": [],
   "source": [
    "data = data.withColumn('Yr_Mo_Dy', fix_centuty('Yr_Mo_Dy'))"
   ]
  },
  {
   "cell_type": "code",
   "execution_count": 67,
   "metadata": {},
   "outputs": [
    {
     "name": "stdout",
     "output_type": "stream",
     "text": [
      "+-------+----+----+----+----+----+------------------+----+----+----+----+------------------+----+\n",
      "|summary| RPT| VAL| ROS| KIL| SHA|               BIR| DUB| CLA| MUL| CLO|               BEL| MAL|\n",
      "+-------+----+----+----+----+----+------------------+----+----+----+----+------------------+----+\n",
      "|  count|6574|6574|6574|6574|6574|              6574|6574|6574|6574|6574|              6574|6574|\n",
      "|   mean| NaN| NaN| NaN| NaN| NaN| 7.092254335260116| NaN| NaN| NaN| NaN|13.121006997261938| NaN|\n",
      "| stddev| NaN| NaN| NaN| NaN| NaN|3.9686831153772086| NaN| NaN| NaN| NaN| 5.835037000573735| NaN|\n",
      "|    min|0.67|0.21| 1.5| 0.0|0.13|               0.0| 0.0| 0.0| 0.0|0.04|              0.13|0.67|\n",
      "|    max| NaN| NaN| NaN| NaN| NaN|             26.16| NaN| NaN| NaN| NaN|             42.38| NaN|\n",
      "+-------+----+----+----+----+----+------------------+----+----+----+----+------------------+----+\n",
      "\n"
     ]
    }
   ],
   "source": [
    "data.describe().show()"
   ]
  },
  {
   "cell_type": "markdown",
   "metadata": {},
   "source": [
    "### Step 5. Set the right dates as the index. Pay attention at the data type, it should be datetime64[ns]."
   ]
  },
  {
   "cell_type": "code",
   "execution_count": 63,
   "metadata": {},
   "outputs": [],
   "source": [
    "# na"
   ]
  },
  {
   "cell_type": "markdown",
   "metadata": {},
   "source": [
    "### Step 6. Compute how many values are missing for each location over the entire record.  \n",
    "#### They should be ignored in all calculations below. "
   ]
  },
  {
   "cell_type": "code",
   "execution_count": 74,
   "metadata": {},
   "outputs": [],
   "source": [
    "df_agg = data.agg(*[F.count(F.when(F.isnan(c), c)).alias(c) for c in data.columns[1:]])"
   ]
  },
  {
   "cell_type": "code",
   "execution_count": 75,
   "metadata": {},
   "outputs": [
    {
     "name": "stdout",
     "output_type": "stream",
     "text": [
      "+---+---+---+---+---+---+---+---+---+---+---+---+\n",
      "|RPT|VAL|ROS|KIL|SHA|BIR|DUB|CLA|MUL|CLO|BEL|MAL|\n",
      "+---+---+---+---+---+---+---+---+---+---+---+---+\n",
      "|  6|  3|  2|  5|  2|  0|  3|  2|  3|  1|  0|  4|\n",
      "+---+---+---+---+---+---+---+---+---+---+---+---+\n",
      "\n"
     ]
    }
   ],
   "source": [
    "df_agg.show()"
   ]
  },
  {
   "cell_type": "markdown",
   "metadata": {},
   "source": [
    "### Step 7. Compute how many non-missing values there are in total."
   ]
  },
  {
   "cell_type": "code",
   "execution_count": 76,
   "metadata": {
    "scrolled": true
   },
   "outputs": [],
   "source": [
    "df_agg = data.agg(*[F.count(F.when(~ F.isnan(c), c)).alias(c) for c in data.columns[1:]])"
   ]
  },
  {
   "cell_type": "code",
   "execution_count": 77,
   "metadata": {},
   "outputs": [
    {
     "name": "stdout",
     "output_type": "stream",
     "text": [
      "+----+----+----+----+----+----+----+----+----+----+----+----+\n",
      "| RPT| VAL| ROS| KIL| SHA| BIR| DUB| CLA| MUL| CLO| BEL| MAL|\n",
      "+----+----+----+----+----+----+----+----+----+----+----+----+\n",
      "|6568|6571|6572|6569|6572|6574|6571|6572|6571|6573|6574|6570|\n",
      "+----+----+----+----+----+----+----+----+----+----+----+----+\n",
      "\n"
     ]
    }
   ],
   "source": [
    "df_agg.show()"
   ]
  },
  {
   "cell_type": "markdown",
   "metadata": {},
   "source": [
    "### Step 8. Calculate the mean windspeeds of the windspeeds over all the locations and all the times.\n",
    "#### A single number for the entire dataset."
   ]
  },
  {
   "cell_type": "code",
   "execution_count": 113,
   "metadata": {},
   "outputs": [],
   "source": [
    "new_data = data.na.fill(0)\n",
    "\n",
    "not_na = data.na.drop()"
   ]
  },
  {
   "cell_type": "code",
   "execution_count": 114,
   "metadata": {},
   "outputs": [],
   "source": [
    "total = new_data.withColumn(\"Total\", sum([new_data[c] for c in new_data.columns[1:]]))\n",
    "\n",
    "total_not_na = not_na.withColumn(\"Total\", sum([not_na[c] for c in not_na.columns[1:]]))"
   ]
  },
  {
   "cell_type": "code",
   "execution_count": 115,
   "metadata": {},
   "outputs": [
    {
     "name": "stdout",
     "output_type": "stream",
     "text": [
      "+-----------------+\n",
      "|       sum(Total)|\n",
      "+-----------------+\n",
      "|802995.0899999997|\n",
      "+-----------------+\n",
      "\n"
     ]
    }
   ],
   "source": [
    "total_not_na.agg({'Total': 'sum'}).show()"
   ]
  },
  {
   "cell_type": "code",
   "execution_count": 111,
   "metadata": {
    "scrolled": true
   },
   "outputs": [
    {
     "name": "stdout",
     "output_type": "stream",
     "text": [
      "+-----------------+\n",
      "|       sum(Total)|\n",
      "+-----------------+\n",
      "|806540.2299999997|\n",
      "+-----------------+\n",
      "\n"
     ]
    }
   ],
   "source": [
    "total.agg({'Total': 'sum'}).show()"
   ]
  },
  {
   "cell_type": "code",
   "execution_count": 123,
   "metadata": {},
   "outputs": [
    {
     "data": {
      "text/plain": [
       "0.9956045093993637"
      ]
     },
     "execution_count": 123,
     "metadata": {},
     "output_type": "execute_result"
    }
   ],
   "source": [
    "# ???\n",
    "total_not_na.agg({'Total': 'sum'}).first()[0] / total.agg({'Total': 'sum'}).first()[0]"
   ]
  },
  {
   "cell_type": "markdown",
   "metadata": {},
   "source": [
    "### Step 9. Create a DataFrame called loc_stats and calculate the min, max and mean windspeeds and standard deviations of the windspeeds at each location over all the days \n",
    "\n",
    "#### A different set of numbers for each location."
   ]
  },
  {
   "cell_type": "code",
   "execution_count": 124,
   "metadata": {},
   "outputs": [
    {
     "name": "stdout",
     "output_type": "stream",
     "text": [
      "+-------+------------------+------------------+-----------------+------------------+------------------+------------------+-----------------+------------------+-----------------+-----------------+------------------+------------------+\n",
      "|summary|               RPT|               VAL|              ROS|               KIL|               SHA|               BIR|              DUB|               CLA|              MUL|              CLO|               BEL|               MAL|\n",
      "+-------+------------------+------------------+-----------------+------------------+------------------+------------------+-----------------+------------------+-----------------+-----------------+------------------+------------------+\n",
      "|  count|              6574|              6574|             6574|              6574|              6574|              6574|             6574|              6574|             6574|             6574|              6574|              6574|\n",
      "|   mean|12.351703681168235|10.639456951627627|11.65697900821418| 6.301671737146336|10.452652874961974| 7.092254335260116|9.792871919683604| 8.492468816550048|8.489714024946762|8.706006997261943|13.121006997261938|15.589587770003044|\n",
      "| stddev| 5.628244970247791| 5.271059628978759|5.011815781665144|3.6086305999897275| 4.938741984776017|3.9686831153772086|4.980816385843769|4.5012035348334525|4.169869647881524|4.504892052968274| 5.835037000573735| 6.708793201449641|\n",
      "|    min|               0.0|               0.0|              0.0|               0.0|               0.0|               0.0|              0.0|               0.0|              0.0|              0.0|              0.13|               0.0|\n",
      "|    max|              35.8|             33.37|            33.84|             28.46|             37.54|             26.16|            30.37|             31.08|            25.88|            28.21|             42.38|             42.54|\n",
      "+-------+------------------+------------------+-----------------+------------------+------------------+------------------+-----------------+------------------+-----------------+-----------------+------------------+------------------+\n",
      "\n"
     ]
    }
   ],
   "source": [
    "new_data.describe().show()"
   ]
  },
  {
   "cell_type": "markdown",
   "metadata": {},
   "source": [
    "### Step 10. Create a DataFrame called day_stats and calculate the min, max and mean windspeed and standard deviations of the windspeeds across all the locations at each day.\n",
    "\n",
    "#### A different set of numbers for each day."
   ]
  },
  {
   "cell_type": "code",
   "execution_count": null,
   "metadata": {},
   "outputs": [],
   "source": []
  },
  {
   "cell_type": "markdown",
   "metadata": {},
   "source": [
    "### Step 11. Find the average windspeed in January for each location.  \n",
    "#### Treat January 1961 and January 1962 both as January."
   ]
  },
  {
   "cell_type": "code",
   "execution_count": null,
   "metadata": {},
   "outputs": [],
   "source": []
  },
  {
   "cell_type": "markdown",
   "metadata": {},
   "source": [
    "### Step 12. Downsample the record to a yearly frequency for each location."
   ]
  },
  {
   "cell_type": "code",
   "execution_count": null,
   "metadata": {},
   "outputs": [],
   "source": []
  },
  {
   "cell_type": "markdown",
   "metadata": {},
   "source": [
    "### Step 13. Downsample the record to a monthly frequency for each location."
   ]
  },
  {
   "cell_type": "code",
   "execution_count": null,
   "metadata": {},
   "outputs": [],
   "source": []
  },
  {
   "cell_type": "markdown",
   "metadata": {},
   "source": [
    "### Step 14. Downsample the record to a weekly frequency for each location."
   ]
  },
  {
   "cell_type": "code",
   "execution_count": null,
   "metadata": {},
   "outputs": [],
   "source": []
  },
  {
   "cell_type": "markdown",
   "metadata": {},
   "source": [
    "### Step 15. Calculate the min, max and mean windspeeds and standard deviations of the windspeeds across all locations for each week (assume that the first week starts on January 2 1961) for the first 52 weeks."
   ]
  },
  {
   "cell_type": "code",
   "execution_count": null,
   "metadata": {},
   "outputs": [],
   "source": []
  }
 ],
 "metadata": {
  "anaconda-cloud": {},
  "kernelspec": {
   "display_name": "Python 3",
   "language": "python",
   "name": "python3"
  },
  "language_info": {
   "codemirror_mode": {
    "name": "ipython",
    "version": 3
   },
   "file_extension": ".py",
   "mimetype": "text/x-python",
   "name": "python",
   "nbconvert_exporter": "python",
   "pygments_lexer": "ipython3",
   "version": "3.7.11"
  }
 },
 "nbformat": 4,
 "nbformat_minor": 1
}
