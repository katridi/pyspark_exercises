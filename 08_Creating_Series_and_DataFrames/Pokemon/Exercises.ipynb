{
 "cells": [
  {
   "cell_type": "markdown",
   "metadata": {},
   "source": [
    "# Pokemon"
   ]
  },
  {
   "cell_type": "markdown",
   "metadata": {},
   "source": [
    "### Introduction:\n",
    "\n",
    "This time you will create the data.\n",
    "\n",
    "\n",
    "\n",
    "### Step 1. Import the necessary libraries"
   ]
  },
  {
   "cell_type": "code",
   "execution_count": 4,
   "metadata": {},
   "outputs": [],
   "source": [
    "from pyspark.sql import SparkSession\n",
    "from pyspark.sql import functions as F\n",
    "from pyspark.sql import types as T\n",
    "import pandas as pd\n",
    "\n",
    "spark = SparkSession.builder.appName(\"Pokemon\").getOrCreate()"
   ]
  },
  {
   "cell_type": "markdown",
   "metadata": {},
   "source": [
    "### Step 2. Create a data dictionary that looks like the DataFrame below"
   ]
  },
  {
   "cell_type": "code",
   "execution_count": 5,
   "metadata": {},
   "outputs": [],
   "source": [
    "raw_data = {\"name\": ['Bulbasaur', 'Charmander','Squirtle','Caterpie'],\n",
    "            \"evolution\": ['Ivysaur','Charmeleon','Wartortle','Metapod'],\n",
    "            \"type\": ['grass', 'fire', 'water', 'bug'],\n",
    "            \"hp\": [45, 39, 44, 45],\n",
    "            \"pokedex\": ['yes', 'no','yes','no']                        \n",
    "            }"
   ]
  },
  {
   "cell_type": "markdown",
   "metadata": {},
   "source": [
    "### Step 3. Assign it to a variable called pokemon"
   ]
  },
  {
   "cell_type": "code",
   "execution_count": null,
   "metadata": {
    "scrolled": true
   },
   "outputs": [],
   "source": []
  },
  {
   "cell_type": "code",
   "execution_count": 6,
   "metadata": {},
   "outputs": [],
   "source": [
    "pokemon = spark.createDataFrame(pd.DataFrame(raw_data))"
   ]
  },
  {
   "cell_type": "code",
   "execution_count": 7,
   "metadata": {},
   "outputs": [
    {
     "name": "stdout",
     "output_type": "stream",
     "text": [
      "+----------+----------+-----+---+-------+\n",
      "|      name| evolution| type| hp|pokedex|\n",
      "+----------+----------+-----+---+-------+\n",
      "| Bulbasaur|   Ivysaur|grass| 45|    yes|\n",
      "|Charmander|Charmeleon| fire| 39|     no|\n",
      "|  Squirtle| Wartortle|water| 44|    yes|\n",
      "|  Caterpie|   Metapod|  bug| 45|     no|\n",
      "+----------+----------+-----+---+-------+\n",
      "\n"
     ]
    }
   ],
   "source": [
    "pokemon.show()"
   ]
  },
  {
   "cell_type": "markdown",
   "metadata": {},
   "source": [
    "### Step 4. Ops...it seems the DataFrame columns are in alphabetical order. Place  the order of the columns as name, type, hp, evolution, pokedex"
   ]
  },
  {
   "cell_type": "code",
   "execution_count": 9,
   "metadata": {},
   "outputs": [],
   "source": [
    "pokemon = pokemon.select('name', 'type', 'hp', 'evolution', 'pokedex')"
   ]
  },
  {
   "cell_type": "code",
   "execution_count": 10,
   "metadata": {},
   "outputs": [
    {
     "name": "stdout",
     "output_type": "stream",
     "text": [
      "+----------+-----+---+----------+-------+\n",
      "|      name| type| hp| evolution|pokedex|\n",
      "+----------+-----+---+----------+-------+\n",
      "| Bulbasaur|grass| 45|   Ivysaur|    yes|\n",
      "|Charmander| fire| 39|Charmeleon|     no|\n",
      "|  Squirtle|water| 44| Wartortle|    yes|\n",
      "|  Caterpie|  bug| 45|   Metapod|     no|\n",
      "+----------+-----+---+----------+-------+\n",
      "\n"
     ]
    }
   ],
   "source": [
    "pokemon.show()"
   ]
  },
  {
   "cell_type": "markdown",
   "metadata": {},
   "source": [
    "### Step 5. Add another column called place, and insert what you have in mind."
   ]
  },
  {
   "cell_type": "code",
   "execution_count": 84,
   "metadata": {},
   "outputs": [],
   "source": [
    "import requests\n",
    "from bs4 import BeautifulSoup\n",
    "import re\n",
    "\n",
    "def get_russian_name(x):\n",
    "    r = requests.get(f'https://pokemon.fandom.com/wiki/{x}')\n",
    "    soup = BeautifulSoup(r.text, 'html.parser')\n",
    "    pattern = r'ru:[а-яА-я]+'\n",
    "    res = re.findall(pattern, str(soup.find('script')))\n",
    "    return res[0].split(':')[1] if res else None\n",
    "\n",
    "rus_pok = F.udf(lambda x: get_russian_name(x))"
   ]
  },
  {
   "cell_type": "code",
   "execution_count": 85,
   "metadata": {},
   "outputs": [],
   "source": [
    "rus_pok = pokemon.withColumn('russian_name', rus_pok(F.col('name')))"
   ]
  },
  {
   "cell_type": "code",
   "execution_count": 86,
   "metadata": {},
   "outputs": [
    {
     "name": "stdout",
     "output_type": "stream",
     "text": [
      "+----------+-----+---+----------+-------+------------+\n",
      "|      name| type| hp| evolution|pokedex|russian_name|\n",
      "+----------+-----+---+----------+-------+------------+\n",
      "| Bulbasaur|grass| 45|   Ivysaur|    yes|  Бульбазавр|\n",
      "|Charmander| fire| 39|Charmeleon|     no|   Чармандер|\n",
      "|  Squirtle|water| 44| Wartortle|    yes|        null|\n",
      "|  Caterpie|  bug| 45|   Metapod|     no|        null|\n",
      "+----------+-----+---+----------+-------+------------+\n",
      "\n"
     ]
    }
   ],
   "source": [
    "rus_pok.show()"
   ]
  },
  {
   "cell_type": "markdown",
   "metadata": {},
   "source": [
    "### Step 6. Present the type of each column"
   ]
  },
  {
   "cell_type": "code",
   "execution_count": 87,
   "metadata": {},
   "outputs": [
    {
     "name": "stdout",
     "output_type": "stream",
     "text": [
      "root\n",
      " |-- name: string (nullable = true)\n",
      " |-- type: string (nullable = true)\n",
      " |-- hp: long (nullable = true)\n",
      " |-- evolution: string (nullable = true)\n",
      " |-- pokedex: string (nullable = true)\n",
      " |-- russian_name: string (nullable = true)\n",
      "\n"
     ]
    }
   ],
   "source": [
    "rus_pok.printSchema()"
   ]
  },
  {
   "cell_type": "markdown",
   "metadata": {},
   "source": [
    "### BONUS: Create your own question and answer it."
   ]
  },
  {
   "cell_type": "code",
   "execution_count": 88,
   "metadata": {},
   "outputs": [],
   "source": [
    "yes_no_to_bool = F.udf(lambda x: True if x == 'yes' else False, T.BooleanType())"
   ]
  },
  {
   "cell_type": "code",
   "execution_count": 89,
   "metadata": {},
   "outputs": [
    {
     "data": {
      "text/plain": [
       "[Row(name='Bulbasaur', type='grass', hp=45, evolution='Ivysaur', pokedex=True, russian_name='Бульбазавр'),\n",
       " Row(name='Charmander', type='fire', hp=39, evolution='Charmeleon', pokedex=False, russian_name='Чармандер'),\n",
       " Row(name='Squirtle', type='water', hp=44, evolution='Wartortle', pokedex=True, russian_name=None),\n",
       " Row(name='Caterpie', type='bug', hp=45, evolution='Metapod', pokedex=False, russian_name=None)]"
      ]
     },
     "execution_count": 89,
     "metadata": {},
     "output_type": "execute_result"
    }
   ],
   "source": [
    "rus_pok = rus_pok.withColumn('pokedex', yes_no_to_bool('pokedex'))\n",
    "rus_pok.collect()"
   ]
  },
  {
   "cell_type": "code",
   "execution_count": 90,
   "metadata": {},
   "outputs": [
    {
     "name": "stdout",
     "output_type": "stream",
     "text": [
      "root\n",
      " |-- name: string (nullable = true)\n",
      " |-- type: string (nullable = true)\n",
      " |-- hp: long (nullable = true)\n",
      " |-- evolution: string (nullable = true)\n",
      " |-- pokedex: boolean (nullable = true)\n",
      " |-- russian_name: string (nullable = true)\n",
      "\n"
     ]
    }
   ],
   "source": [
    "rus_pok.printSchema()"
   ]
  },
  {
   "cell_type": "code",
   "execution_count": null,
   "metadata": {},
   "outputs": [],
   "source": []
  }
 ],
 "metadata": {
  "kernelspec": {
   "display_name": "Python 3",
   "language": "python",
   "name": "python3"
  },
  "language_info": {
   "codemirror_mode": {
    "name": "ipython",
    "version": 3
   },
   "file_extension": ".py",
   "mimetype": "text/x-python",
   "name": "python",
   "nbconvert_exporter": "python",
   "pygments_lexer": "ipython3",
   "version": "3.7.11"
  }
 },
 "nbformat": 4,
 "nbformat_minor": 1
}
