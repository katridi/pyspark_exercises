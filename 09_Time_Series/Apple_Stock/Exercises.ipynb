{
 "cells": [
  {
   "cell_type": "markdown",
   "metadata": {},
   "source": [
    "# Apple Stock"
   ]
  },
  {
   "cell_type": "markdown",
   "metadata": {},
   "source": [
    "### Introduction:\n",
    "\n",
    "We are going to use Apple's stock price.\n",
    "\n",
    "\n",
    "### Step 1. Import the necessary libraries"
   ]
  },
  {
   "cell_type": "code",
   "execution_count": 1,
   "metadata": {},
   "outputs": [],
   "source": [
    "from pyspark.sql import SparkSession\n",
    "from pyspark.sql import functions as F\n",
    "from pyspark.sql import types as T\n",
    "\n",
    "spark = SparkSession.builder.appName(\"Apple_Stock\").getOrCreate()"
   ]
  },
  {
   "cell_type": "markdown",
   "metadata": {},
   "source": [
    "### Step 2. Import the dataset from this [address](https://raw.githubusercontent.com/guipsamora/pandas_exercises/master/09_Time_Series/Apple_Stock/appl_1980_2014.csv)"
   ]
  },
  {
   "cell_type": "markdown",
   "metadata": {},
   "source": [
    "### Step 3. Assign it to a variable apple"
   ]
  },
  {
   "cell_type": "code",
   "execution_count": 2,
   "metadata": {},
   "outputs": [],
   "source": [
    "url = 'https://raw.githubusercontent.com/guipsamora/pandas_exercises/master/09_Time_Series/Apple_Stock/appl_1980_2014.csv'\n",
    "\n",
    "from pyspark import SparkFiles\n",
    "spark.sparkContext.addFile(url)\n",
    "\n",
    "\n",
    "apple = spark.read.csv(SparkFiles.get(\"appl_1980_2014.csv\"),header=True, inferSchema= True)\n"
   ]
  },
  {
   "cell_type": "code",
   "execution_count": null,
   "metadata": {},
   "outputs": [],
   "source": []
  },
  {
   "cell_type": "markdown",
   "metadata": {},
   "source": [
    "### Step 4.  Check out the type of the columns"
   ]
  },
  {
   "cell_type": "code",
   "execution_count": 3,
   "metadata": {},
   "outputs": [
    {
     "data": {
      "text/plain": [
       "[('Date', 'string'),\n",
       " ('Open', 'double'),\n",
       " ('High', 'double'),\n",
       " ('Low', 'double'),\n",
       " ('Close', 'double'),\n",
       " ('Volume', 'int'),\n",
       " ('Adj Close', 'double')]"
      ]
     },
     "execution_count": 3,
     "metadata": {},
     "output_type": "execute_result"
    }
   ],
   "source": [
    "apple.dtypes"
   ]
  },
  {
   "cell_type": "markdown",
   "metadata": {},
   "source": [
    "### Step 5. Transform the Date column as a datetime type"
   ]
  },
  {
   "cell_type": "code",
   "execution_count": 7,
   "metadata": {},
   "outputs": [],
   "source": [
    "apple = apple.withColumn('Date', F.to_date('Date'))"
   ]
  },
  {
   "cell_type": "code",
   "execution_count": 70,
   "metadata": {},
   "outputs": [],
   "source": [
    "apple = apple.withColumnRenamed('Adj Close', 'Adj_Close')"
   ]
  },
  {
   "cell_type": "code",
   "execution_count": 71,
   "metadata": {
    "scrolled": true
   },
   "outputs": [
    {
     "data": {
      "text/plain": [
       "[('Date', 'date'),\n",
       " ('Open', 'double'),\n",
       " ('High', 'double'),\n",
       " ('Low', 'double'),\n",
       " ('Close', 'double'),\n",
       " ('Volume', 'int'),\n",
       " ('Adj_Close', 'double')]"
      ]
     },
     "execution_count": 71,
     "metadata": {},
     "output_type": "execute_result"
    }
   ],
   "source": [
    "apple.dtypes"
   ]
  },
  {
   "cell_type": "markdown",
   "metadata": {},
   "source": [
    "### Step 6.  Set the date as the index"
   ]
  },
  {
   "cell_type": "code",
   "execution_count": 72,
   "metadata": {},
   "outputs": [],
   "source": [
    "# na"
   ]
  },
  {
   "cell_type": "markdown",
   "metadata": {},
   "source": [
    "### Step 7.  Is there any duplicate dates?"
   ]
  },
  {
   "cell_type": "code",
   "execution_count": 73,
   "metadata": {},
   "outputs": [
    {
     "data": {
      "text/plain": [
       "0"
      ]
     },
     "execution_count": 73,
     "metadata": {},
     "output_type": "execute_result"
    }
   ],
   "source": [
    "apple.select('Date').distinct().count() - apple.select('Date').count() "
   ]
  },
  {
   "cell_type": "markdown",
   "metadata": {},
   "source": [
    "### Step 8.  Ops...it seems the index is from the most recent date. Make the first entry the oldest date."
   ]
  },
  {
   "cell_type": "code",
   "execution_count": 74,
   "metadata": {},
   "outputs": [],
   "source": [
    "apple = apple.orderBy('Date', ascending=True)"
   ]
  },
  {
   "cell_type": "code",
   "execution_count": 76,
   "metadata": {},
   "outputs": [
    {
     "data": {
      "text/plain": [
       "[Row(Date=datetime.date(1980, 12, 12), Open=28.75, High=28.87, Low=28.75, Close=28.75, Volume=117258400, Adj_Close=0.45),\n",
       " Row(Date=datetime.date(1980, 12, 15), Open=27.38, High=27.38, Low=27.25, Close=27.25, Volume=43971200, Adj_Close=0.42),\n",
       " Row(Date=datetime.date(1980, 12, 16), Open=25.37, High=25.37, Low=25.25, Close=25.25, Volume=26432000, Adj_Close=0.39),\n",
       " Row(Date=datetime.date(1980, 12, 17), Open=25.87, High=26.0, Low=25.87, Close=25.87, Volume=21610400, Adj_Close=0.4),\n",
       " Row(Date=datetime.date(1980, 12, 18), Open=26.63, High=26.75, Low=26.63, Close=26.63, Volume=18362400, Adj_Close=0.41)]"
      ]
     },
     "execution_count": 76,
     "metadata": {},
     "output_type": "execute_result"
    }
   ],
   "source": [
    "apple.head(5)"
   ]
  },
  {
   "cell_type": "markdown",
   "metadata": {},
   "source": [
    "### Step 9. Get the last business day of each month"
   ]
  },
  {
   "cell_type": "code",
   "execution_count": 108,
   "metadata": {
    "scrolled": false
   },
   "outputs": [],
   "source": [
    "\n",
    "apple = apple.withColumn('id', F.monotonically_increasing_id())"
   ]
  },
  {
   "cell_type": "code",
   "execution_count": 109,
   "metadata": {},
   "outputs": [
    {
     "name": "stdout",
     "output_type": "stream",
     "text": [
      "+----------+-----+-----+-----+-----+---------+---------+---+\n",
      "|      Date| Open| High|  Low|Close|   Volume|Adj_Close| id|\n",
      "+----------+-----+-----+-----+-----+---------+---------+---+\n",
      "|1980-12-12|28.75|28.87|28.75|28.75|117258400|     0.45|  0|\n",
      "|1980-12-15|27.38|27.38|27.25|27.25| 43971200|     0.42|  1|\n",
      "|1980-12-16|25.37|25.37|25.25|25.25| 26432000|     0.39|  2|\n",
      "|1980-12-17|25.87| 26.0|25.87|25.87| 21610400|      0.4|  3|\n",
      "|1980-12-18|26.63|26.75|26.63|26.63| 18362400|     0.41|  4|\n",
      "|1980-12-19|28.25|28.38|28.25|28.25| 12157600|     0.44|  5|\n",
      "|1980-12-22|29.63|29.75|29.63|29.63|  9340800|     0.46|  6|\n",
      "|1980-12-23|30.88| 31.0|30.88|30.88| 11737600|     0.48|  7|\n",
      "|1980-12-24| 32.5|32.63| 32.5| 32.5| 12000800|     0.51|  8|\n",
      "|1980-12-26| 35.5|35.62| 35.5| 35.5| 13893600|     0.55|  9|\n",
      "|1980-12-29| 36.0|36.13| 36.0| 36.0| 23290400|     0.56| 10|\n",
      "|1980-12-30|35.25|35.25|35.12|35.12| 17220000|     0.55| 11|\n",
      "|1980-12-31|34.25|34.25|34.13|34.13|  8937600|     0.53| 12|\n",
      "|1981-01-02| 34.5|34.75| 34.5| 34.5|  5415200|     0.54| 13|\n",
      "|1981-01-05|33.87|33.87|33.75|33.75|  8932000|     0.53| 14|\n",
      "|1981-01-06|32.37|32.37|32.25|32.25| 11289600|      0.5| 15|\n",
      "|1981-01-07| 31.0| 31.0|30.88|30.88| 13921600|     0.48| 16|\n",
      "|1981-01-08|30.37|30.37|30.25|30.25|  9956800|     0.47| 17|\n",
      "|1981-01-09|31.88| 32.0|31.88|31.88|  5376000|      0.5| 18|\n",
      "|1981-01-12|31.88|31.88|31.62|31.62|  5924800|     0.49| 19|\n",
      "+----------+-----+-----+-----+-----+---------+---------+---+\n",
      "only showing top 20 rows\n",
      "\n"
     ]
    }
   ],
   "source": [
    "apple.show()"
   ]
  },
  {
   "cell_type": "code",
   "execution_count": 115,
   "metadata": {},
   "outputs": [],
   "source": [
    "def resample_data(pdf):\n",
    "    pdf['Date'] = pd.to_datetime(pdf.Date)\n",
    "    pdf.resample('BM', on='Date').mean()\n",
    "    return pdf"
   ]
  },
  {
   "cell_type": "code",
   "execution_count": 117,
   "metadata": {},
   "outputs": [],
   "source": [
    "schema = \"Date date, Open double, High double, Low double, Close double, Volume int, Adj_Close double, id int\"\n",
    "month_apple = apple.groupBy('id').applyInPandas(resample_data, schema)"
   ]
  },
  {
   "cell_type": "code",
   "execution_count": null,
   "metadata": {},
   "outputs": [],
   "source": [
    "# doesn't the way I expect with this rolling\n",
    "month_apple.collect()\n",
    "month_apple.show(1)"
   ]
  },
  {
   "cell_type": "markdown",
   "metadata": {},
   "source": [
    "### Step 10.  What is the difference in days between the first day and the oldest"
   ]
  },
  {
   "cell_type": "code",
   "execution_count": null,
   "metadata": {},
   "outputs": [],
   "source": []
  },
  {
   "cell_type": "markdown",
   "metadata": {},
   "source": [
    "### Step 11.  How many months in the data we have?"
   ]
  },
  {
   "cell_type": "code",
   "execution_count": null,
   "metadata": {},
   "outputs": [],
   "source": []
  },
  {
   "cell_type": "markdown",
   "metadata": {},
   "source": [
    "### Step 12. Plot the 'Adj Close' value. Set the size of the figure to 13.5 x 9 inches"
   ]
  },
  {
   "cell_type": "code",
   "execution_count": null,
   "metadata": {},
   "outputs": [],
   "source": []
  },
  {
   "cell_type": "markdown",
   "metadata": {},
   "source": [
    "### BONUS: Create your own question and answer it."
   ]
  },
  {
   "cell_type": "code",
   "execution_count": null,
   "metadata": {
    "collapsed": true
   },
   "outputs": [],
   "source": []
  }
 ],
 "metadata": {
  "anaconda-cloud": {},
  "kernelspec": {
   "display_name": "Python 3",
   "language": "python",
   "name": "python3"
  },
  "language_info": {
   "codemirror_mode": {
    "name": "ipython",
    "version": 3
   },
   "file_extension": ".py",
   "mimetype": "text/x-python",
   "name": "python",
   "nbconvert_exporter": "python",
   "pygments_lexer": "ipython3",
   "version": "3.7.11"
  }
 },
 "nbformat": 4,
 "nbformat_minor": 1
}
