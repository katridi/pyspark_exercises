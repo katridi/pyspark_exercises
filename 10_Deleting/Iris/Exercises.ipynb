{
 "cells": [
  {
   "cell_type": "markdown",
   "metadata": {},
   "source": [
    "# Iris"
   ]
  },
  {
   "cell_type": "markdown",
   "metadata": {},
   "source": [
    "### Introduction:\n",
    "\n",
    "This exercise may seem a little bit strange, but keep doing it.\n",
    "\n",
    "### Step 1. Import the necessary libraries"
   ]
  },
  {
   "cell_type": "code",
   "execution_count": 49,
   "metadata": {},
   "outputs": [],
   "source": [
    "from pyspark.sql import SparkSession\n",
    "from pyspark.sql import functions as F\n",
    "from pyspark.sql import types as T\n",
    "\n",
    "spark = SparkSession.builder.appName(\"Iris\").getOrCreate()"
   ]
  },
  {
   "cell_type": "markdown",
   "metadata": {},
   "source": [
    "### Step 2. Import the dataset from this [address](https://archive.ics.uci.edu/ml/machine-learning-databases/iris/iris.data). "
   ]
  },
  {
   "cell_type": "markdown",
   "metadata": {},
   "source": [
    "### Step 3. Assign it to a variable called iris"
   ]
  },
  {
   "cell_type": "code",
   "execution_count": 50,
   "metadata": {},
   "outputs": [],
   "source": [
    "schema = T.StructType([\n",
    "    T.StructField('sepal_length', T.DoubleType()),\n",
    "    T.StructField('sepal_width', T.DoubleType()),\n",
    "    T.StructField('petal_length', T.DoubleType()),\n",
    "    T.StructField('petal_width', T.DoubleType()),\n",
    "    T.StructField('class', T.StringType())\n",
    "])"
   ]
  },
  {
   "cell_type": "code",
   "execution_count": 51,
   "metadata": {},
   "outputs": [],
   "source": [
    "url = 'https://archive.ics.uci.edu/ml/machine-learning-databases/iris/iris.data'\n",
    "\n",
    "from pyspark import SparkFiles\n",
    "spark.sparkContext.addFile(url)\n",
    "\n",
    "iris = spark.read.csv(SparkFiles.get(\"iris.data\"), schema=schema)"
   ]
  },
  {
   "cell_type": "markdown",
   "metadata": {},
   "source": [
    "### Step 4. Create columns for the dataset"
   ]
  },
  {
   "cell_type": "code",
   "execution_count": 52,
   "metadata": {},
   "outputs": [],
   "source": [
    "# 1. sepal_length (in cm)\n",
    "# 2. sepal_width (in cm)\n",
    "# 3. petal_length (in cm)\n",
    "# 4. petal_width (in cm)\n",
    "# 5. class"
   ]
  },
  {
   "cell_type": "code",
   "execution_count": 53,
   "metadata": {},
   "outputs": [
    {
     "data": {
      "text/plain": [
       "[Row(sepal_length=5.1, sepal_width=3.5, petal_length=1.4, petal_width=0.2, class='Iris-setosa'),\n",
       " Row(sepal_length=4.9, sepal_width=3.0, petal_length=1.4, petal_width=0.2, class='Iris-setosa'),\n",
       " Row(sepal_length=4.7, sepal_width=3.2, petal_length=1.3, petal_width=0.2, class='Iris-setosa'),\n",
       " Row(sepal_length=4.6, sepal_width=3.1, petal_length=1.5, petal_width=0.2, class='Iris-setosa'),\n",
       " Row(sepal_length=5.0, sepal_width=3.6, petal_length=1.4, petal_width=0.2, class='Iris-setosa')]"
      ]
     },
     "execution_count": 53,
     "metadata": {},
     "output_type": "execute_result"
    }
   ],
   "source": [
    "iris.head(5)"
   ]
  },
  {
   "cell_type": "markdown",
   "metadata": {},
   "source": [
    "### Step 5.  Is there any missing value in the dataframe?"
   ]
  },
  {
   "cell_type": "code",
   "execution_count": 54,
   "metadata": {},
   "outputs": [
    {
     "name": "stdout",
     "output_type": "stream",
     "text": [
      "+------------+-----------+------------+-----------+-----+\n",
      "|sepal_length|sepal_width|petal_length|petal_width|class|\n",
      "+------------+-----------+------------+-----------+-----+\n",
      "|           0|          0|           0|          0|    0|\n",
      "+------------+-----------+------------+-----------+-----+\n",
      "\n"
     ]
    }
   ],
   "source": [
    "iris.select([\n",
    "    F.count(F.when(F.isnan(c), c)).alias(c) for c in iris.columns\n",
    "]).show()"
   ]
  },
  {
   "cell_type": "markdown",
   "metadata": {},
   "source": [
    "### Step 6.  Lets set the values of the rows 10 to 29 of the column 'petal_length' to NaN"
   ]
  },
  {
   "cell_type": "code",
   "execution_count": 55,
   "metadata": {},
   "outputs": [
    {
     "name": "stdout",
     "output_type": "stream",
     "text": [
      "+------------+-----------+------------+-----------+-----------+---+\n",
      "|sepal_length|sepal_width|petal_length|petal_width|      class| id|\n",
      "+------------+-----------+------------+-----------+-----------+---+\n",
      "|         5.1|        3.5|         1.4|        0.2|Iris-setosa|  0|\n",
      "|         4.9|        3.0|         1.4|        0.2|Iris-setosa|  1|\n",
      "|         4.7|        3.2|         1.3|        0.2|Iris-setosa|  2|\n",
      "|         4.6|        3.1|         1.5|        0.2|Iris-setosa|  3|\n",
      "|         5.0|        3.6|         1.4|        0.2|Iris-setosa|  4|\n",
      "|         5.4|        3.9|         1.7|        0.4|Iris-setosa|  5|\n",
      "|         4.6|        3.4|         1.4|        0.3|Iris-setosa|  6|\n",
      "|         5.0|        3.4|         1.5|        0.2|Iris-setosa|  7|\n",
      "|         4.4|        2.9|         1.4|        0.2|Iris-setosa|  8|\n",
      "|         4.9|        3.1|         1.5|        0.1|Iris-setosa|  9|\n",
      "|         5.4|        3.7|         1.5|        0.2|Iris-setosa| 10|\n",
      "|         4.8|        3.4|         1.6|        0.2|Iris-setosa| 11|\n",
      "|         4.8|        3.0|         1.4|        0.1|Iris-setosa| 12|\n",
      "|         4.3|        3.0|         1.1|        0.1|Iris-setosa| 13|\n",
      "|         5.8|        4.0|         1.2|        0.2|Iris-setosa| 14|\n",
      "|         5.7|        4.4|         1.5|        0.4|Iris-setosa| 15|\n",
      "|         5.4|        3.9|         1.3|        0.4|Iris-setosa| 16|\n",
      "|         5.1|        3.5|         1.4|        0.3|Iris-setosa| 17|\n",
      "|         5.7|        3.8|         1.7|        0.3|Iris-setosa| 18|\n",
      "|         5.1|        3.8|         1.5|        0.3|Iris-setosa| 19|\n",
      "+------------+-----------+------------+-----------+-----------+---+\n",
      "only showing top 20 rows\n",
      "\n"
     ]
    }
   ],
   "source": [
    "iris = iris.withColumn('id', F.monotonically_increasing_id())\n",
    "\n",
    "iris.show()"
   ]
  },
  {
   "cell_type": "code",
   "execution_count": 56,
   "metadata": {},
   "outputs": [],
   "source": [
    "import numpy as np"
   ]
  },
  {
   "cell_type": "code",
   "execution_count": 57,
   "metadata": {},
   "outputs": [],
   "source": [
    "iris_na = iris.withColumn(\"petal_length\", \n",
    "               F.when((F.col('id') > 10) & (F.col('id') < 30), F.lit(np.nan))\n",
    "               .otherwise(F.col(\"petal_length\")))"
   ]
  },
  {
   "cell_type": "code",
   "execution_count": 59,
   "metadata": {},
   "outputs": [
    {
     "data": {
      "text/plain": [
       "[Row(sepal_length=5.1, sepal_width=3.5, petal_length=1.4, petal_width=0.2, class='Iris-setosa', id=0),\n",
       " Row(sepal_length=4.9, sepal_width=3.0, petal_length=1.4, petal_width=0.2, class='Iris-setosa', id=1),\n",
       " Row(sepal_length=4.7, sepal_width=3.2, petal_length=1.3, petal_width=0.2, class='Iris-setosa', id=2),\n",
       " Row(sepal_length=4.6, sepal_width=3.1, petal_length=1.5, petal_width=0.2, class='Iris-setosa', id=3),\n",
       " Row(sepal_length=5.0, sepal_width=3.6, petal_length=1.4, petal_width=0.2, class='Iris-setosa', id=4),\n",
       " Row(sepal_length=5.4, sepal_width=3.9, petal_length=1.7, petal_width=0.4, class='Iris-setosa', id=5),\n",
       " Row(sepal_length=4.6, sepal_width=3.4, petal_length=1.4, petal_width=0.3, class='Iris-setosa', id=6),\n",
       " Row(sepal_length=5.0, sepal_width=3.4, petal_length=1.5, petal_width=0.2, class='Iris-setosa', id=7),\n",
       " Row(sepal_length=4.4, sepal_width=2.9, petal_length=1.4, petal_width=0.2, class='Iris-setosa', id=8),\n",
       " Row(sepal_length=4.9, sepal_width=3.1, petal_length=1.5, petal_width=0.1, class='Iris-setosa', id=9),\n",
       " Row(sepal_length=5.4, sepal_width=3.7, petal_length=1.5, petal_width=0.2, class='Iris-setosa', id=10),\n",
       " Row(sepal_length=4.8, sepal_width=3.4, petal_length=nan, petal_width=0.2, class='Iris-setosa', id=11),\n",
       " Row(sepal_length=4.8, sepal_width=3.0, petal_length=nan, petal_width=0.1, class='Iris-setosa', id=12),\n",
       " Row(sepal_length=4.3, sepal_width=3.0, petal_length=nan, petal_width=0.1, class='Iris-setosa', id=13),\n",
       " Row(sepal_length=5.8, sepal_width=4.0, petal_length=nan, petal_width=0.2, class='Iris-setosa', id=14),\n",
       " Row(sepal_length=5.7, sepal_width=4.4, petal_length=nan, petal_width=0.4, class='Iris-setosa', id=15),\n",
       " Row(sepal_length=5.4, sepal_width=3.9, petal_length=nan, petal_width=0.4, class='Iris-setosa', id=16),\n",
       " Row(sepal_length=5.1, sepal_width=3.5, petal_length=nan, petal_width=0.3, class='Iris-setosa', id=17),\n",
       " Row(sepal_length=5.7, sepal_width=3.8, petal_length=nan, petal_width=0.3, class='Iris-setosa', id=18),\n",
       " Row(sepal_length=5.1, sepal_width=3.8, petal_length=nan, petal_width=0.3, class='Iris-setosa', id=19)]"
      ]
     },
     "execution_count": 59,
     "metadata": {},
     "output_type": "execute_result"
    }
   ],
   "source": [
    "iris_na.head(20)"
   ]
  },
  {
   "cell_type": "markdown",
   "metadata": {},
   "source": [
    "### Step 7. Good, now lets substitute the NaN values to 1.0"
   ]
  },
  {
   "cell_type": "code",
   "execution_count": 62,
   "metadata": {},
   "outputs": [],
   "source": [
    "iris_1 = iris_na.withColumn(\"petal_length\", F.when(F.isnan('petal_length'), 1).otherwise(F.col(\"petal_length\")))"
   ]
  },
  {
   "cell_type": "code",
   "execution_count": 65,
   "metadata": {},
   "outputs": [
    {
     "data": {
      "text/plain": [
       "[Row(sepal_length=5.1, sepal_width=3.5, petal_length=1.4, petal_width=0.2, class='Iris-setosa', id=0),\n",
       " Row(sepal_length=4.9, sepal_width=3.0, petal_length=1.4, petal_width=0.2, class='Iris-setosa', id=1),\n",
       " Row(sepal_length=4.7, sepal_width=3.2, petal_length=1.3, petal_width=0.2, class='Iris-setosa', id=2),\n",
       " Row(sepal_length=4.6, sepal_width=3.1, petal_length=1.5, petal_width=0.2, class='Iris-setosa', id=3),\n",
       " Row(sepal_length=5.0, sepal_width=3.6, petal_length=1.4, petal_width=0.2, class='Iris-setosa', id=4),\n",
       " Row(sepal_length=5.4, sepal_width=3.9, petal_length=1.7, petal_width=0.4, class='Iris-setosa', id=5),\n",
       " Row(sepal_length=4.6, sepal_width=3.4, petal_length=1.4, petal_width=0.3, class='Iris-setosa', id=6),\n",
       " Row(sepal_length=5.0, sepal_width=3.4, petal_length=1.5, petal_width=0.2, class='Iris-setosa', id=7),\n",
       " Row(sepal_length=4.4, sepal_width=2.9, petal_length=1.4, petal_width=0.2, class='Iris-setosa', id=8),\n",
       " Row(sepal_length=4.9, sepal_width=3.1, petal_length=1.5, petal_width=0.1, class='Iris-setosa', id=9),\n",
       " Row(sepal_length=5.4, sepal_width=3.7, petal_length=1.5, petal_width=0.2, class='Iris-setosa', id=10),\n",
       " Row(sepal_length=4.8, sepal_width=3.4, petal_length=1.0, petal_width=0.2, class='Iris-setosa', id=11),\n",
       " Row(sepal_length=4.8, sepal_width=3.0, petal_length=1.0, petal_width=0.1, class='Iris-setosa', id=12),\n",
       " Row(sepal_length=4.3, sepal_width=3.0, petal_length=1.0, petal_width=0.1, class='Iris-setosa', id=13),\n",
       " Row(sepal_length=5.8, sepal_width=4.0, petal_length=1.0, petal_width=0.2, class='Iris-setosa', id=14),\n",
       " Row(sepal_length=5.7, sepal_width=4.4, petal_length=1.0, petal_width=0.4, class='Iris-setosa', id=15),\n",
       " Row(sepal_length=5.4, sepal_width=3.9, petal_length=1.0, petal_width=0.4, class='Iris-setosa', id=16),\n",
       " Row(sepal_length=5.1, sepal_width=3.5, petal_length=1.0, petal_width=0.3, class='Iris-setosa', id=17),\n",
       " Row(sepal_length=5.7, sepal_width=3.8, petal_length=1.0, petal_width=0.3, class='Iris-setosa', id=18),\n",
       " Row(sepal_length=5.1, sepal_width=3.8, petal_length=1.0, petal_width=0.3, class='Iris-setosa', id=19),\n",
       " Row(sepal_length=5.4, sepal_width=3.4, petal_length=1.0, petal_width=0.2, class='Iris-setosa', id=20),\n",
       " Row(sepal_length=5.1, sepal_width=3.7, petal_length=1.0, petal_width=0.4, class='Iris-setosa', id=21),\n",
       " Row(sepal_length=4.6, sepal_width=3.6, petal_length=1.0, petal_width=0.2, class='Iris-setosa', id=22),\n",
       " Row(sepal_length=5.1, sepal_width=3.3, petal_length=1.0, petal_width=0.5, class='Iris-setosa', id=23),\n",
       " Row(sepal_length=4.8, sepal_width=3.4, petal_length=1.0, petal_width=0.2, class='Iris-setosa', id=24),\n",
       " Row(sepal_length=5.0, sepal_width=3.0, petal_length=1.0, petal_width=0.2, class='Iris-setosa', id=25),\n",
       " Row(sepal_length=5.0, sepal_width=3.4, petal_length=1.0, petal_width=0.4, class='Iris-setosa', id=26),\n",
       " Row(sepal_length=5.2, sepal_width=3.5, petal_length=1.0, petal_width=0.2, class='Iris-setosa', id=27),\n",
       " Row(sepal_length=5.2, sepal_width=3.4, petal_length=1.0, petal_width=0.2, class='Iris-setosa', id=28),\n",
       " Row(sepal_length=4.7, sepal_width=3.2, petal_length=1.0, petal_width=0.2, class='Iris-setosa', id=29),\n",
       " Row(sepal_length=4.8, sepal_width=3.1, petal_length=1.6, petal_width=0.2, class='Iris-setosa', id=30)]"
      ]
     },
     "execution_count": 65,
     "metadata": {},
     "output_type": "execute_result"
    }
   ],
   "source": [
    "iris_1.head(31)"
   ]
  },
  {
   "cell_type": "markdown",
   "metadata": {},
   "source": [
    "### Step 8. Now let's delete the column class"
   ]
  },
  {
   "cell_type": "code",
   "execution_count": 67,
   "metadata": {},
   "outputs": [],
   "source": [
    "iris_no_class = iris_1.drop('class')"
   ]
  },
  {
   "cell_type": "code",
   "execution_count": 68,
   "metadata": {},
   "outputs": [
    {
     "name": "stdout",
     "output_type": "stream",
     "text": [
      "+------------+-----------+------------+-----------+---+\n",
      "|sepal_length|sepal_width|petal_length|petal_width| id|\n",
      "+------------+-----------+------------+-----------+---+\n",
      "|         5.1|        3.5|         1.4|        0.2|  0|\n",
      "|         4.9|        3.0|         1.4|        0.2|  1|\n",
      "|         4.7|        3.2|         1.3|        0.2|  2|\n",
      "|         4.6|        3.1|         1.5|        0.2|  3|\n",
      "|         5.0|        3.6|         1.4|        0.2|  4|\n",
      "|         5.4|        3.9|         1.7|        0.4|  5|\n",
      "|         4.6|        3.4|         1.4|        0.3|  6|\n",
      "|         5.0|        3.4|         1.5|        0.2|  7|\n",
      "|         4.4|        2.9|         1.4|        0.2|  8|\n",
      "|         4.9|        3.1|         1.5|        0.1|  9|\n",
      "|         5.4|        3.7|         1.5|        0.2| 10|\n",
      "|         4.8|        3.4|         1.0|        0.2| 11|\n",
      "|         4.8|        3.0|         1.0|        0.1| 12|\n",
      "|         4.3|        3.0|         1.0|        0.1| 13|\n",
      "|         5.8|        4.0|         1.0|        0.2| 14|\n",
      "|         5.7|        4.4|         1.0|        0.4| 15|\n",
      "|         5.4|        3.9|         1.0|        0.4| 16|\n",
      "|         5.1|        3.5|         1.0|        0.3| 17|\n",
      "|         5.7|        3.8|         1.0|        0.3| 18|\n",
      "|         5.1|        3.8|         1.0|        0.3| 19|\n",
      "+------------+-----------+------------+-----------+---+\n",
      "only showing top 20 rows\n",
      "\n"
     ]
    }
   ],
   "source": [
    "iris_no_class.show()"
   ]
  },
  {
   "cell_type": "markdown",
   "metadata": {},
   "source": [
    "### Step 9.  Set the first 3 rows as NaN"
   ]
  },
  {
   "cell_type": "code",
   "execution_count": 72,
   "metadata": {},
   "outputs": [],
   "source": [
    "wo_first_3_iris = iris_no_class.\\\n",
    "withColumn(\"sepal_length\", F.when(F.col('id') < 4, F.lit(np.nan)).otherwise(F.col(\"sepal_length\"))).\\\n",
    "withColumn(\"sepal_width\", F.when(F.col('id') < 4, F.lit(np.nan)).otherwise(F.col(\"sepal_width\"))).\\\n",
    "withColumn(\"petal_length\", F.when(F.col('id') < 4, F.lit(np.nan)).otherwise(F.col(\"petal_length\"))).\\\n",
    "withColumn(\"petal_width\", F.when(F.col('id') < 4, F.lit(np.nan)).otherwise(F.col(\"petal_width\")))"
   ]
  },
  {
   "cell_type": "code",
   "execution_count": 73,
   "metadata": {},
   "outputs": [
    {
     "data": {
      "text/plain": [
       "[Row(sepal_length=nan, sepal_width=nan, petal_length=nan, petal_width=nan, id=0),\n",
       " Row(sepal_length=nan, sepal_width=nan, petal_length=nan, petal_width=nan, id=1),\n",
       " Row(sepal_length=nan, sepal_width=nan, petal_length=nan, petal_width=nan, id=2),\n",
       " Row(sepal_length=nan, sepal_width=nan, petal_length=nan, petal_width=nan, id=3),\n",
       " Row(sepal_length=5.0, sepal_width=3.6, petal_length=1.4, petal_width=0.2, id=4)]"
      ]
     },
     "execution_count": 73,
     "metadata": {},
     "output_type": "execute_result"
    }
   ],
   "source": [
    "wo_first_3_iris.head(5)"
   ]
  },
  {
   "cell_type": "markdown",
   "metadata": {},
   "source": [
    "### Step 10.  Delete the rows that have NaN"
   ]
  },
  {
   "cell_type": "code",
   "execution_count": 82,
   "metadata": {},
   "outputs": [],
   "source": [
    "no_na_iris = wo_first_3_iris.dropna()"
   ]
  },
  {
   "cell_type": "code",
   "execution_count": 85,
   "metadata": {},
   "outputs": [
    {
     "data": {
      "text/plain": [
       "[Row(sepal_length=5.0, sepal_width=3.6, petal_length=1.4, petal_width=0.2, id=4),\n",
       " Row(sepal_length=5.4, sepal_width=3.9, petal_length=1.7, petal_width=0.4, id=5),\n",
       " Row(sepal_length=4.6, sepal_width=3.4, petal_length=1.4, petal_width=0.3, id=6),\n",
       " Row(sepal_length=5.0, sepal_width=3.4, petal_length=1.5, petal_width=0.2, id=7),\n",
       " Row(sepal_length=4.4, sepal_width=2.9, petal_length=1.4, petal_width=0.2, id=8)]"
      ]
     },
     "execution_count": 85,
     "metadata": {},
     "output_type": "execute_result"
    }
   ],
   "source": [
    "no_na_iris.head(5)"
   ]
  },
  {
   "cell_type": "markdown",
   "metadata": {},
   "source": [
    "### Step 11. Reset the index so it begins with 0 again"
   ]
  },
  {
   "cell_type": "code",
   "execution_count": 86,
   "metadata": {},
   "outputs": [],
   "source": [
    "reset_iris =  no_na_iris.withColumn('id', F.monotonically_increasing_id())"
   ]
  },
  {
   "cell_type": "code",
   "execution_count": 88,
   "metadata": {},
   "outputs": [
    {
     "data": {
      "text/plain": [
       "[Row(sepal_length=5.0, sepal_width=3.6, petal_length=1.4, petal_width=0.2, id=0),\n",
       " Row(sepal_length=5.4, sepal_width=3.9, petal_length=1.7, petal_width=0.4, id=1),\n",
       " Row(sepal_length=4.6, sepal_width=3.4, petal_length=1.4, petal_width=0.3, id=2),\n",
       " Row(sepal_length=5.0, sepal_width=3.4, petal_length=1.5, petal_width=0.2, id=3),\n",
       " Row(sepal_length=4.4, sepal_width=2.9, petal_length=1.4, petal_width=0.2, id=4)]"
      ]
     },
     "execution_count": 88,
     "metadata": {},
     "output_type": "execute_result"
    }
   ],
   "source": [
    "reset_iris.head(5)"
   ]
  },
  {
   "cell_type": "markdown",
   "metadata": {},
   "source": [
    "### BONUS: Create your own question and answer it."
   ]
  },
  {
   "cell_type": "code",
   "execution_count": null,
   "metadata": {
    "collapsed": true
   },
   "outputs": [],
   "source": []
  }
 ],
 "metadata": {
  "kernelspec": {
   "display_name": "Python 3",
   "language": "python",
   "name": "python3"
  },
  "language_info": {
   "codemirror_mode": {
    "name": "ipython",
    "version": 3
   },
   "file_extension": ".py",
   "mimetype": "text/x-python",
   "name": "python",
   "nbconvert_exporter": "python",
   "pygments_lexer": "ipython3",
   "version": "3.7.11"
  }
 },
 "nbformat": 4,
 "nbformat_minor": 1
}
